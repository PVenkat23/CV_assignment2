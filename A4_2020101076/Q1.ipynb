{
  "cells": [
    {
      "cell_type": "code",
      "execution_count": null,
      "metadata": {
        "colab": {
          "base_uri": "https://localhost:8080/"
        },
        "id": "FzeL2virhFtj",
        "outputId": "83ec5cec-04dc-4cd4-db77-319c76a95211"
      },
      "outputs": [],
      "source": [
        "from google.colab import drive\n",
        "drive.mount('/content/drive')"
      ]
    },
    {
      "cell_type": "code",
      "execution_count": null,
      "metadata": {
        "colab": {
          "base_uri": "https://localhost:8080/"
        },
        "id": "4HxFdDAxeY_r",
        "outputId": "f3999c8e-50fd-4e27-f8d3-55b9246400cb"
      },
      "outputs": [],
      "source": [
        "\n",
        "# IMPORTANT: RUN THIS CELL IN ORDER TO IMPORT YOUR KAGGLE DATA SOURCES\n",
        "# TO THE CORRECT LOCATION (/kaggle/input) IN YOUR NOTEBOOK,\n",
        "# THEN FEEL FREE TO DELETE THIS CELL.\n",
        "# NOTE: THIS NOTEBOOK ENVIRONMENT DIFFERS FROM KAGGLE'S PYTHON\n",
        "# ENVIRONMENT SO THERE MAY BE MISSING LIBRARIES USED BY YOUR\n",
        "# NOTEBOOK.\n",
        "\n",
        "import os\n",
        "import sys\n",
        "from tempfile import NamedTemporaryFile\n",
        "from urllib.request import urlopen\n",
        "from urllib.parse import unquote, urlparse\n",
        "from urllib.error import HTTPError\n",
        "from zipfile import ZipFile\n",
        "import tarfile\n",
        "import shutil\n",
        "\n",
        "CHUNK_SIZE = 40960\n",
        "DATA_SOURCE_MAPPING = 'cityscapes-image-pairs:https%3A%2F%2Fstorage.googleapis.com%2Fkaggle-data-sets%2F22655%2F29047%2Fbundle%2Farchive.zip%3FX-Goog-Algorithm%3DGOOG4-RSA-SHA256%26X-Goog-Credential%3Dgcp-kaggle-com%2540kaggle-161607.iam.gserviceaccount.com%252F20240423%252Fauto%252Fstorage%252Fgoog4_request%26X-Goog-Date%3D20240423T102128Z%26X-Goog-Expires%3D259200%26X-Goog-SignedHeaders%3Dhost%26X-Goog-Signature%3D899a58d6e3d4f4072ef840e6df9df9fea7a839e236021b70bbfda7f05cb7d72e5c82ad79e67421b527b9990dc8ee1d3ad63508bfd85b24b6d033cf501c0241c7d797803c8b24391f3a907783d6eb0ebb4f40bf2805dbb179d0a255c4dd80b5aa771cd2531e954658643d8a7c918c8e59b297209d352811ba667ba254b61dc7d67161d4c031193334d90fac2eac3232e063d6accec8f4ce9752c86c5e27dc674948d5fb81f202ebdca23636d763ce2886ac6a182270d333f1b8c1ca9ed2e6519dcf05e1e30260ec6f35035c32def02e976255239512c23da9a97961508b14c0534a5b93fdab4d980db52f16f83ea9d41a1b6e782059cf9a999d5b5637b0edb018'\n",
        "\n",
        "KAGGLE_INPUT_PATH='/kaggle/input'\n",
        "KAGGLE_WORKING_PATH='/kaggle/working'\n",
        "KAGGLE_SYMLINK='kaggle'\n",
        "\n",
        "!umount /kaggle/input/ 2> /dev/null\n",
        "shutil.rmtree('/kaggle/input', ignore_errors=True)\n",
        "os.makedirs(KAGGLE_INPUT_PATH, 0o777, exist_ok=True)\n",
        "os.makedirs(KAGGLE_WORKING_PATH, 0o777, exist_ok=True)\n",
        "\n",
        "try:\n",
        "  os.symlink(KAGGLE_INPUT_PATH, os.path.join(\"..\", 'input'), target_is_directory=True)\n",
        "except FileExistsError:\n",
        "  pass\n",
        "try:\n",
        "  os.symlink(KAGGLE_WORKING_PATH, os.path.join(\"..\", 'working'), target_is_directory=True)\n",
        "except FileExistsError:\n",
        "  pass\n",
        "\n",
        "for data_source_mapping in DATA_SOURCE_MAPPING.split(','):\n",
        "    directory, download_url_encoded = data_source_mapping.split(':')\n",
        "    download_url = unquote(download_url_encoded)\n",
        "    filename = urlparse(download_url).path\n",
        "    destination_path = os.path.join(KAGGLE_INPUT_PATH, directory)\n",
        "    try:\n",
        "        with urlopen(download_url) as fileres, NamedTemporaryFile() as tfile:\n",
        "            total_length = fileres.headers['content-length']\n",
        "            print(f'Downloading {directory}, {total_length} bytes compressed')\n",
        "            dl = 0\n",
        "            data = fileres.read(CHUNK_SIZE)\n",
        "            while len(data) > 0:\n",
        "                dl += len(data)\n",
        "                tfile.write(data)\n",
        "                done = int(50 * dl / int(total_length))\n",
        "                sys.stdout.write(f\"\\r[{'=' * done}{' ' * (50-done)}] {dl} bytes downloaded\")\n",
        "                sys.stdout.flush()\n",
        "                data = fileres.read(CHUNK_SIZE)\n",
        "            if filename.endswith('.zip'):\n",
        "              with ZipFile(tfile) as zfile:\n",
        "                zfile.extractall(destination_path)\n",
        "            else:\n",
        "              with tarfile.open(tfile.name) as tarfile:\n",
        "                tarfile.extractall(destination_path)\n",
        "            print(f'\\nDownloaded and uncompressed: {directory}')\n",
        "    except HTTPError as e:\n",
        "        print(f'Failed to load (likely expired) {download_url} to path {destination_path}')\n",
        "        continue\n",
        "    except OSError as e:\n",
        "        print(f'Failed to load {download_url} to path {destination_path}')\n",
        "        continue\n",
        "\n",
        "print('Data source import complete.')\n"
      ]
    },
    {
      "cell_type": "markdown",
      "metadata": {
        "id": "XdlfkqS9dBHq"
      },
      "source": [
        "**Conext**\n",
        "\n",
        "**Cityscapes data** contains labeled videos taken from vehicles driven in Germany. This version is a processed subsample created as part of the [Pix2Pix](https://phillipi.github.io/pix2pix/) paper. The dataset has still images from the original videos, and the semantic segmentation labels are shown in images alongside the original image. This is one of the best datasets around for semantic segmentation tasks.\n",
        "\n",
        "**Content**\n",
        "\n",
        "This dataset has 2975 training images files and 500 validation image files. Each image file is 256x512 pixels, and each file is a composite with the original photo on the left half of the image, alongside the labeled image (output of semantic segmentation) on the right half.\n",
        "\n",
        "**Dataset:**\n",
        "\n",
        "https://www.kaggle.com/dansbecker/cityscapes-image-pairs\n",
        "\n",
        "**References:**\n",
        "\n",
        "*   https://arxiv.org/pdf/1603.07285v1.pdf\n",
        "*   https://towardsdatascience.com/u-net-b229b32b4a71\n",
        "\n"
      ]
    },
    {
      "cell_type": "markdown",
      "metadata": {
        "id": "iL4T80m0emE8"
      },
      "source": [
        "### 1. Setup Libraries & device"
      ]
    },
    {
      "cell_type": "code",
      "execution_count": null,
      "metadata": {
        "execution": {
          "iopub.execute_input": "2022-03-06T11:22:35.987546Z",
          "iopub.status.busy": "2022-03-06T11:22:35.987259Z",
          "iopub.status.idle": "2022-03-06T11:22:38.640777Z",
          "shell.execute_reply": "2022-03-06T11:22:38.640058Z",
          "shell.execute_reply.started": "2022-03-06T11:22:35.987516Z"
        },
        "id": "yUjuCdlLek4-",
        "trusted": true
      },
      "outputs": [],
      "source": [
        "import os\n",
        "from PIL import Image\n",
        "import numpy as np\n",
        "import pandas as pd\n",
        "import matplotlib.pyplot as plt\n",
        "from sklearn.cluster import KMeans\n",
        "\n",
        "import torch\n",
        "import torch.nn as nn\n",
        "import torch.nn.functional as F\n",
        "import torch.optim as optim\n",
        "from torch.utils.data import Dataset, DataLoader\n",
        "from torchvision import transforms\n",
        "\n",
        "from tqdm.notebook import tqdm"
      ]
    },
    {
      "cell_type": "code",
      "execution_count": null,
      "metadata": {
        "colab": {
          "base_uri": "https://localhost:8080/"
        },
        "execution": {
          "iopub.execute_input": "2022-03-06T11:22:38.642639Z",
          "iopub.status.busy": "2022-03-06T11:22:38.642413Z",
          "iopub.status.idle": "2022-03-06T11:22:38.692409Z",
          "shell.execute_reply": "2022-03-06T11:22:38.691705Z",
          "shell.execute_reply.started": "2022-03-06T11:22:38.642605Z"
        },
        "id": "lmKoNbt8gN9q",
        "outputId": "33aed90f-b3f3-4fc6-ab76-070c659efc4f",
        "trusted": true
      },
      "outputs": [],
      "source": [
        "device = \"cuda:0\" if torch.cuda.is_available() else \"cpu\"\n",
        "device = torch.device(device)\n",
        "print(device)"
      ]
    },
    {
      "cell_type": "markdown",
      "metadata": {
        "id": "wpAuXYZ3rO2i"
      },
      "source": [
        "### 2. Configure data locations"
      ]
    },
    {
      "cell_type": "code",
      "execution_count": null,
      "metadata": {
        "colab": {
          "base_uri": "https://localhost:8080/"
        },
        "execution": {
          "iopub.execute_input": "2022-03-06T11:22:38.694948Z",
          "iopub.status.busy": "2022-03-06T11:22:38.694271Z",
          "iopub.status.idle": "2022-03-06T11:22:39.175087Z",
          "shell.execute_reply": "2022-03-06T11:22:39.174325Z",
          "shell.execute_reply.started": "2022-03-06T11:22:38.694909Z"
        },
        "id": "aLzdqzdUqvX9",
        "outputId": "97e1dc0b-39ea-411a-9264-56fc1fbc383c",
        "trusted": true
      },
      "outputs": [],
      "source": [
        "data_dir = os.path.join(\"/kaggle\", \"input\", \"cityscapes-image-pairs\", \"cityscapes_data\")\n",
        "train_dir = os.path.join(data_dir, \"train\")\n",
        "val_dir = os.path.join(data_dir, \"val\")\n",
        "\n",
        "train_fns = os.listdir(train_dir)\n",
        "val_fns = os.listdir(val_dir)\n",
        "print(len(train_fns), len(val_fns))"
      ]
    },
    {
      "cell_type": "markdown",
      "metadata": {
        "id": "jk_CgoFcrtnw"
      },
      "source": [
        "### 3. Analyze data"
      ]
    },
    {
      "cell_type": "code",
      "execution_count": null,
      "metadata": {
        "colab": {
          "base_uri": "https://localhost:8080/",
          "height": 330
        },
        "execution": {
          "iopub.execute_input": "2022-03-06T11:22:39.177554Z",
          "iopub.status.busy": "2022-03-06T11:22:39.177245Z",
          "iopub.status.idle": "2022-03-06T11:22:39.44105Z",
          "shell.execute_reply": "2022-03-06T11:22:39.440314Z",
          "shell.execute_reply.started": "2022-03-06T11:22:39.177513Z"
        },
        "id": "cwWijlkrrsgh",
        "outputId": "3db0a0a8-7026-48c8-ef13-1c79cd34885e",
        "trusted": true
      },
      "outputs": [],
      "source": [
        "sample_image_fp = os.path.join(train_dir, train_fns[0])\n",
        "sample_image = Image.open(sample_image_fp).convert(\"RGB\")\n",
        "plt.imshow(sample_image)\n",
        "print(sample_image_fp)"
      ]
    },
    {
      "cell_type": "markdown",
      "metadata": {
        "id": "2xI10AYby4ZS"
      },
      "source": [
        "### 4. Extract Image and Labels\n",
        "\n",
        "The input images contain both the road scene and the corresponding label in the same image. Thus, we are splitting it and presenting it as two separate entities."
      ]
    },
    {
      "cell_type": "code",
      "execution_count": null,
      "metadata": {
        "execution": {
          "iopub.execute_input": "2022-03-06T11:22:39.442286Z",
          "iopub.status.busy": "2022-03-06T11:22:39.442091Z",
          "iopub.status.idle": "2022-03-06T11:22:39.447286Z",
          "shell.execute_reply": "2022-03-06T11:22:39.446529Z",
          "shell.execute_reply.started": "2022-03-06T11:22:39.442261Z"
        },
        "id": "mXMgIwxlxpr4",
        "trusted": true
      },
      "outputs": [],
      "source": [
        "def split_image(image):\n",
        "  image = np.array(image)\n",
        "  cityscape, label = image[:, :256, :], image[:, 256:, :]\n",
        "  return cityscape, label"
      ]
    },
    {
      "cell_type": "code",
      "execution_count": null,
      "metadata": {
        "colab": {
          "base_uri": "https://localhost:8080/",
          "height": 434
        },
        "execution": {
          "iopub.execute_input": "2022-03-06T11:22:39.449502Z",
          "iopub.status.busy": "2022-03-06T11:22:39.448558Z",
          "iopub.status.idle": "2022-03-06T11:22:39.806434Z",
          "shell.execute_reply": "2022-03-06T11:22:39.805734Z",
          "shell.execute_reply.started": "2022-03-06T11:22:39.449463Z"
        },
        "id": "yRmPfi5ozUfw",
        "outputId": "0b0ba15c-4086-48d5-b57b-1658518ea4c8",
        "trusted": true
      },
      "outputs": [],
      "source": [
        "sample_image = np.array(sample_image)\n",
        "cityscape, label = split_image(sample_image)\n",
        "\n",
        "# display split images\n",
        "cityscape, label = Image.fromarray(cityscape), Image.fromarray(label)\n",
        "fig, axes = plt.subplots(1, 2, figsize=(10,5))\n",
        "axes[0].imshow(cityscape)\n",
        "axes[1].imshow(label)"
      ]
    },
    {
      "cell_type": "markdown",
      "metadata": {
        "id": "Wqb0b4GI3tdB"
      },
      "source": [
        "### 5. Define Labels\n",
        "\n",
        "We use K-means clustering to segregate the objects of different colors and assign them class labels.   "
      ]
    },
    {
      "cell_type": "code",
      "execution_count": null,
      "metadata": {
        "colab": {
          "base_uri": "https://localhost:8080/"
        },
        "execution": {
          "iopub.execute_input": "2022-03-06T11:22:39.80818Z",
          "iopub.status.busy": "2022-03-06T11:22:39.807803Z",
          "iopub.status.idle": "2022-03-06T11:22:39.813664Z",
          "shell.execute_reply": "2022-03-06T11:22:39.812927Z",
          "shell.execute_reply.started": "2022-03-06T11:22:39.808145Z"
        },
        "id": "WYDFjOvm2ilp",
        "outputId": "aaae4c60-58ea-4cce-9458-4a8244281d7a",
        "trusted": true
      },
      "outputs": [],
      "source": [
        "num_items = 1000\n",
        "color_array = np.random.choice(range(256), 3*num_items).reshape(-1,3)\n",
        "print(color_array.shape)"
      ]
    },
    {
      "cell_type": "code",
      "execution_count": null,
      "metadata": {
        "colab": {
          "base_uri": "https://localhost:8080/",
          "height": 129
        },
        "execution": {
          "iopub.execute_input": "2022-03-06T11:22:39.815312Z",
          "iopub.status.busy": "2022-03-06T11:22:39.81491Z",
          "iopub.status.idle": "2022-03-06T11:22:39.906425Z",
          "shell.execute_reply": "2022-03-06T11:22:39.905659Z",
          "shell.execute_reply.started": "2022-03-06T11:22:39.815278Z"
        },
        "id": "N4gfHr1n4mjW",
        "outputId": "c789010c-df78-407b-a808-53e8021cbcad",
        "trusted": true
      },
      "outputs": [],
      "source": [
        "num_classes = 10\n",
        "label_model = KMeans(n_clusters = num_classes)\n",
        "label_model.fit(color_array)"
      ]
    },
    {
      "cell_type": "code",
      "execution_count": null,
      "metadata": {
        "colab": {
          "base_uri": "https://localhost:8080/",
          "height": 324
        },
        "execution": {
          "iopub.execute_input": "2022-03-06T11:22:39.9081Z",
          "iopub.status.busy": "2022-03-06T11:22:39.907806Z",
          "iopub.status.idle": "2022-03-06T11:22:40.518352Z",
          "shell.execute_reply": "2022-03-06T11:22:40.517543Z",
          "shell.execute_reply.started": "2022-03-06T11:22:39.908064Z"
        },
        "id": "Ar4vXCJQ5jXn",
        "outputId": "7e89f3a5-e631-4071-df0f-4a4cf656b575",
        "trusted": true
      },
      "outputs": [],
      "source": [
        "cityscape, label = split_image(sample_image)\n",
        "label_class = label_model.predict(label.reshape(-1,3)).reshape(256,256)\n",
        "fig, axes = plt.subplots(1,3,figsize=(15,5))\n",
        "axes[0].imshow(cityscape)\n",
        "axes[1].imshow(label)\n",
        "axes[2].imshow(label_class)"
      ]
    },
    {
      "cell_type": "code",
      "execution_count": null,
      "metadata": {
        "colab": {
          "base_uri": "https://localhost:8080/"
        },
        "execution": {
          "iopub.execute_input": "2022-03-06T11:22:40.522087Z",
          "iopub.status.busy": "2022-03-06T11:22:40.521593Z",
          "iopub.status.idle": "2022-03-06T11:22:40.529529Z",
          "shell.execute_reply": "2022-03-06T11:22:40.528822Z",
          "shell.execute_reply.started": "2022-03-06T11:22:40.52205Z"
        },
        "id": "7o491cnp6sSx",
        "outputId": "0249d555-3cda-4b62-e871-18774d96b5f7",
        "trusted": true
      },
      "outputs": [],
      "source": [
        "label_class"
      ]
    },
    {
      "cell_type": "markdown",
      "metadata": {
        "id": "TTb420Sr628b"
      },
      "source": [
        "### 6. Define Dataset"
      ]
    },
    {
      "cell_type": "code",
      "execution_count": null,
      "metadata": {
        "execution": {
          "iopub.execute_input": "2022-03-06T11:22:40.531431Z",
          "iopub.status.busy": "2022-03-06T11:22:40.531102Z",
          "iopub.status.idle": "2022-03-06T11:22:40.542404Z",
          "shell.execute_reply": "2022-03-06T11:22:40.541416Z",
          "shell.execute_reply.started": "2022-03-06T11:22:40.531388Z"
        },
        "id": "70F73X4SBfMn",
        "trusted": true
      },
      "outputs": [],
      "source": [
        "class CityscapeDataset(Dataset):\n",
        "\n",
        "  def __init__(self, image_dir, label_model):\n",
        "    self.image_dir = image_dir\n",
        "    self.image_fns = os.listdir(image_dir)\n",
        "    self.label_model = label_model\n",
        "\n",
        "  def __len__(self):\n",
        "    return len(self.image_fns)\n",
        "\n",
        "  def __getitem__(self, index):\n",
        "    image_fn = self.image_fns[index]\n",
        "    image_fp = os.path.join(self.image_dir, image_fn)\n",
        "    image = Image.open(image_fp).convert(\"RGB\")\n",
        "    image = np.array(image)\n",
        "    cityscape, label = self.split_image(image)\n",
        "    label_class = self.label_model.predict(label.reshape(-1,3)).reshape(256,256)\n",
        "    label_class = torch.Tensor(label_class).long()\n",
        "    cityscape = self.transform(cityscape)\n",
        "    return cityscape, label_class\n",
        "\n",
        "  def split_image(self, image):\n",
        "    image = np.array(image)\n",
        "    cityscape, label = image[:, :256, :], image[:, 256:, :]\n",
        "    return cityscape, label\n",
        "\n",
        "  def transform(self, image):\n",
        "    transform_ops = transforms.Compose([\n",
        "                                        transforms.ToTensor(),\n",
        "                                        transforms.Normalize(mean=(0.485, 0.56, 0.406), std=(0.229, 0.224, 0.225))\n",
        "    ])\n",
        "    return transform_ops(image)"
      ]
    },
    {
      "cell_type": "code",
      "execution_count": null,
      "metadata": {
        "colab": {
          "base_uri": "https://localhost:8080/"
        },
        "execution": {
          "iopub.execute_input": "2022-03-06T11:22:40.544262Z",
          "iopub.status.busy": "2022-03-06T11:22:40.543836Z",
          "iopub.status.idle": "2022-03-06T11:22:40.553172Z",
          "shell.execute_reply": "2022-03-06T11:22:40.552141Z",
          "shell.execute_reply.started": "2022-03-06T11:22:40.544226Z"
        },
        "id": "4mu8UQT0G-11",
        "outputId": "f453735a-38e8-4c07-904e-ea368792b487",
        "trusted": true
      },
      "outputs": [],
      "source": [
        "dataset = CityscapeDataset(train_dir, label_model)\n",
        "print(len(dataset))"
      ]
    },
    {
      "cell_type": "code",
      "execution_count": null,
      "metadata": {
        "colab": {
          "base_uri": "https://localhost:8080/"
        },
        "execution": {
          "iopub.execute_input": "2022-03-06T11:22:40.555145Z",
          "iopub.status.busy": "2022-03-06T11:22:40.554227Z",
          "iopub.status.idle": "2022-03-06T11:22:40.607122Z",
          "shell.execute_reply": "2022-03-06T11:22:40.606324Z",
          "shell.execute_reply.started": "2022-03-06T11:22:40.555089Z"
        },
        "id": "WFdYTZZpJpYz",
        "outputId": "65035a71-d429-4e59-e4aa-9b104ca28d57",
        "trusted": true
      },
      "outputs": [],
      "source": [
        "cityscape, label_class = dataset[0]\n",
        "print(cityscape.shape, label_class.shape)"
      ]
    },
    {
      "cell_type": "markdown",
      "metadata": {
        "id": "Lohsyj6LKGuh"
      },
      "source": [
        "### 7. Define Model\n"
      ]
    },
    {
      "cell_type": "code",
      "execution_count": null,
      "metadata": {
        "execution": {
          "iopub.execute_input": "2022-03-06T11:22:40.608331Z",
          "iopub.status.busy": "2022-03-06T11:22:40.608156Z",
          "iopub.status.idle": "2022-03-06T11:22:40.629498Z",
          "shell.execute_reply": "2022-03-06T11:22:40.628802Z",
          "shell.execute_reply.started": "2022-03-06T11:22:40.608309Z"
        },
        "id": "xMFO6K_QKF1L",
        "trusted": true
      },
      "outputs": [],
      "source": [
        "class UNet(nn.Module):\n",
        "\n",
        "    def __init__(self, num_classes):\n",
        "        super(UNet, self).__init__()\n",
        "        self.num_classes = num_classes\n",
        "        self.contracting_11 = self.conv_block(in_channels=3, out_channels=64)\n",
        "        self.contracting_12 = nn.MaxPool2d(kernel_size=2, stride=2)\n",
        "        self.contracting_21 = self.conv_block(in_channels=64, out_channels=128)\n",
        "        self.contracting_22 = nn.MaxPool2d(kernel_size=2, stride=2)\n",
        "        self.contracting_31 = self.conv_block(in_channels=128, out_channels=256)\n",
        "        self.contracting_32 = nn.MaxPool2d(kernel_size=2, stride=2)\n",
        "        self.contracting_41 = self.conv_block(in_channels=256, out_channels=512)\n",
        "        self.contracting_42 = nn.MaxPool2d(kernel_size=2, stride=2)\n",
        "        self.middle = self.conv_block(in_channels=512, out_channels=1024)\n",
        "        self.expansive_11 = nn.ConvTranspose2d(in_channels=1024, out_channels=512, kernel_size=3, stride=2, padding=1, output_padding=1)\n",
        "        self.expansive_12 = self.conv_block(in_channels=1024, out_channels=512)\n",
        "        self.expansive_21 = nn.ConvTranspose2d(in_channels=512, out_channels=256, kernel_size=3, stride=2, padding=1, output_padding=1)\n",
        "        self.expansive_22 = self.conv_block(in_channels=512, out_channels=256)\n",
        "        self.expansive_31 = nn.ConvTranspose2d(in_channels=256, out_channels=128, kernel_size=3, stride=2, padding=1, output_padding=1)\n",
        "        self.expansive_32 = self.conv_block(in_channels=256, out_channels=128)\n",
        "        self.expansive_41 = nn.ConvTranspose2d(in_channels=128, out_channels=64, kernel_size=3, stride=2, padding=1, output_padding=1)\n",
        "        self.expansive_42 = self.conv_block(in_channels=128, out_channels=64)\n",
        "        self.output = nn.Conv2d(in_channels=64, out_channels=num_classes, kernel_size=3, stride=1, padding=1)\n",
        "\n",
        "    def conv_block(self, in_channels, out_channels):\n",
        "        block = nn.Sequential(nn.Conv2d(in_channels=in_channels, out_channels=out_channels, kernel_size=3, stride=1, padding=1),\n",
        "                                    nn.ReLU(),\n",
        "                                    nn.BatchNorm2d(num_features=out_channels),\n",
        "                                    nn.Conv2d(in_channels=out_channels, out_channels=out_channels, kernel_size=3, stride=1, padding=1),\n",
        "                                    nn.ReLU(),\n",
        "                                    nn.BatchNorm2d(num_features=out_channels))\n",
        "        return block\n",
        "\n",
        "    def forward(self, X):\n",
        "        contracting_11_out = self.contracting_11(X) # [-1, 64, 256, 256]\n",
        "        contracting_12_out = self.contracting_12(contracting_11_out) # [-1, 64, 128, 128]\n",
        "        contracting_21_out = self.contracting_21(contracting_12_out) # [-1, 128, 128, 128]\n",
        "        contracting_22_out = self.contracting_22(contracting_21_out) # [-1, 128, 64, 64]\n",
        "        contracting_31_out = self.contracting_31(contracting_22_out) # [-1, 256, 64, 64]\n",
        "        contracting_32_out = self.contracting_32(contracting_31_out) # [-1, 256, 32, 32]\n",
        "        contracting_41_out = self.contracting_41(contracting_32_out) # [-1, 512, 32, 32]\n",
        "        contracting_42_out = self.contracting_42(contracting_41_out) # [-1, 512, 16, 16]\n",
        "        middle_out = self.middle(contracting_42_out) # [-1, 1024, 16, 16]\n",
        "        expansive_11_out = self.expansive_11(middle_out) # [-1, 512, 32, 32]\n",
        "        expansive_12_out = self.expansive_12(torch.cat((expansive_11_out, contracting_41_out), dim=1)) # [-1, 1024, 32, 32] -> [-1, 512, 32, 32]\n",
        "        expansive_21_out = self.expansive_21(expansive_12_out) # [-1, 256, 64, 64]\n",
        "        expansive_22_out = self.expansive_22(torch.cat((expansive_21_out, contracting_31_out), dim=1)) # [-1, 512, 64, 64] -> [-1, 256, 64, 64]\n",
        "        expansive_31_out = self.expansive_31(expansive_22_out) # [-1, 128, 128, 128]\n",
        "        expansive_32_out = self.expansive_32(torch.cat((expansive_31_out, contracting_21_out), dim=1)) # [-1, 256, 128, 128] -> [-1, 128, 128, 128]\n",
        "        expansive_41_out = self.expansive_41(expansive_32_out) # [-1, 64, 256, 256]\n",
        "        expansive_42_out = self.expansive_42(torch.cat((expansive_41_out, contracting_11_out), dim=1)) # [-1, 128, 256, 256] -> [-1, 64, 256, 256]\n",
        "        output_out = self.output(expansive_42_out) # [-1, num_classes, 256, 256]\n",
        "        return output_out"
      ]
    },
    {
      "cell_type": "code",
      "execution_count": null,
      "metadata": {
        "execution": {
          "iopub.execute_input": "2022-03-06T11:22:40.630994Z",
          "iopub.status.busy": "2022-03-06T11:22:40.630747Z",
          "iopub.status.idle": "2022-03-06T11:22:40.942866Z",
          "shell.execute_reply": "2022-03-06T11:22:40.942039Z",
          "shell.execute_reply.started": "2022-03-06T11:22:40.630961Z"
        },
        "id": "KouEmWR8LDkK",
        "trusted": true
      },
      "outputs": [],
      "source": [
        "model = UNet(num_classes=num_classes)"
      ]
    },
    {
      "cell_type": "code",
      "execution_count": null,
      "metadata": {
        "colab": {
          "base_uri": "https://localhost:8080/"
        },
        "execution": {
          "iopub.execute_input": "2022-03-06T11:22:40.944747Z",
          "iopub.status.busy": "2022-03-06T11:22:40.944435Z",
          "iopub.status.idle": "2022-03-06T11:22:41.009679Z",
          "shell.execute_reply": "2022-03-06T11:22:41.008968Z",
          "shell.execute_reply.started": "2022-03-06T11:22:40.944711Z"
        },
        "id": "TC6ZVxgILOuO",
        "outputId": "f5df783a-eba0-4fca-fd24-e5cb360d1f23",
        "trusted": true
      },
      "outputs": [],
      "source": [
        "data_loader = DataLoader(dataset, batch_size = 4)\n",
        "print(len(dataset), len(data_loader))\n",
        "\n",
        "X, Y = iter(data_loader).__next__()\n",
        "print(X.shape, Y.shape)"
      ]
    },
    {
      "cell_type": "code",
      "execution_count": null,
      "metadata": {
        "colab": {
          "base_uri": "https://localhost:8080/"
        },
        "execution": {
          "iopub.execute_input": "2022-03-06T11:22:41.011131Z",
          "iopub.status.busy": "2022-03-06T11:22:41.010745Z",
          "iopub.status.idle": "2022-03-06T11:22:46.791256Z",
          "shell.execute_reply": "2022-03-06T11:22:46.79056Z",
          "shell.execute_reply.started": "2022-03-06T11:22:41.011096Z"
        },
        "id": "1WKnZev-L7YW",
        "outputId": "ad5116e7-ab55-44ba-9c31-4ae03985dc00",
        "trusted": true
      },
      "outputs": [],
      "source": [
        "Y_pred = model(X)\n",
        "print(Y_pred.shape)"
      ]
    },
    {
      "cell_type": "markdown",
      "metadata": {
        "id": "pIfs-attMP6f"
      },
      "source": [
        "### 8. Train the model"
      ]
    },
    {
      "cell_type": "code",
      "execution_count": null,
      "metadata": {
        "execution": {
          "iopub.execute_input": "2022-03-06T11:22:46.792924Z",
          "iopub.status.busy": "2022-03-06T11:22:46.792678Z",
          "iopub.status.idle": "2022-03-06T11:22:46.796813Z",
          "shell.execute_reply": "2022-03-06T11:22:46.796071Z",
          "shell.execute_reply.started": "2022-03-06T11:22:46.79289Z"
        },
        "id": "fD_1H3k9MWO2",
        "trusted": true
      },
      "outputs": [],
      "source": [
        "batch_size = 16\n",
        "\n",
        "epochs = 1\n",
        "lr = 0.01"
      ]
    },
    {
      "cell_type": "code",
      "execution_count": null,
      "metadata": {
        "execution": {
          "iopub.execute_input": "2022-03-06T11:22:46.799246Z",
          "iopub.status.busy": "2022-03-06T11:22:46.798795Z",
          "iopub.status.idle": "2022-03-06T11:22:46.812564Z",
          "shell.execute_reply": "2022-03-06T11:22:46.811785Z",
          "shell.execute_reply.started": "2022-03-06T11:22:46.799211Z"
        },
        "id": "L0R3MzU8McGt",
        "trusted": true
      },
      "outputs": [],
      "source": [
        "dataset = CityscapeDataset(train_dir, label_model)\n",
        "data_loader = DataLoader(dataset, batch_size = batch_size)"
      ]
    },
    {
      "cell_type": "code",
      "execution_count": null,
      "metadata": {
        "execution": {
          "iopub.execute_input": "2022-03-06T11:22:46.815797Z",
          "iopub.status.busy": "2022-03-06T11:22:46.815385Z",
          "iopub.status.idle": "2022-03-06T11:22:50.019393Z",
          "shell.execute_reply": "2022-03-06T11:22:50.01847Z",
          "shell.execute_reply.started": "2022-03-06T11:22:46.815763Z"
        },
        "id": "fFnm_d7vMrfl",
        "trusted": true
      },
      "outputs": [],
      "source": [
        "model = UNet(num_classes = num_classes).to(device)"
      ]
    },
    {
      "cell_type": "code",
      "execution_count": null,
      "metadata": {
        "execution": {
          "iopub.execute_input": "2022-03-06T11:22:50.020865Z",
          "iopub.status.busy": "2022-03-06T11:22:50.020602Z",
          "iopub.status.idle": "2022-03-06T11:22:50.026491Z",
          "shell.execute_reply": "2022-03-06T11:22:50.025344Z",
          "shell.execute_reply.started": "2022-03-06T11:22:50.020831Z"
        },
        "id": "SPhuyVDBNXrf",
        "trusted": true
      },
      "outputs": [],
      "source": [
        "criterion = nn.CrossEntropyLoss()\n",
        "optimizer = optim.Adam(model.parameters(), lr = lr)"
      ]
    },
    {
      "cell_type": "code",
      "execution_count": null,
      "metadata": {
        "colab": {
          "base_uri": "https://localhost:8080/",
          "height": 49,
          "referenced_widgets": [
            "6940f2441fe74d39ada44a3b8f4098bc",
            "29ba3f2ca2b04adb93db48c6b79dc8dc",
            "e06091c84ca4459a99b01de39787418c",
            "98b17445b0444eb283d98824204492a6",
            "48f859868f114d9db3900b405bf042f0",
            "04dc25b54da840dda6d475b52a543ff3",
            "b7709fea98d44ed89969612c7fccfa2f",
            "683c00da9c434cf78d30c0d96840352f",
            "1731d4d87db549d5bd0935d59979cfba",
            "223ba734e06d4f9380354bdf263cb9ba",
            "7418673765834954a9e8b5907b1e62ee",
            "f224f672b46b4761a594add58e57d74b",
            "334934bf35d9468c8aef435f727e58ad",
            "9c27a859da03435fa9422ea7d2b99942",
            "b5e393cbec954f6a890fbfb6fd87f922",
            "075d652e76294d519cbc4fe300b835ef",
            "afee33d82f134e99aaa9aa6ff6b6b280",
            "07163dd52e034531ae76a63f2e4a0564",
            "449e2a52c4334ecc9cdae62706643ea6",
            "7602a27f375445e1963c885acdf7f3c5",
            "cb045c89aa8f47ebb68743d0985145d7",
            "27bc142471ef4ff48e4fc6d62175d467"
          ]
        },
        "execution": {
          "iopub.execute_input": "2022-03-06T11:22:50.028644Z",
          "iopub.status.busy": "2022-03-06T11:22:50.027926Z",
          "iopub.status.idle": "2022-03-06T11:47:54.30838Z",
          "shell.execute_reply": "2022-03-06T11:47:54.307755Z",
          "shell.execute_reply.started": "2022-03-06T11:22:50.028607Z"
        },
        "id": "nI_-LSXTNsDq",
        "outputId": "395985b1-a16c-4cca-f443-6433292f88fb",
        "trusted": true
      },
      "outputs": [],
      "source": [
        "step_losses = []\n",
        "epoch_losses = []\n",
        "\n",
        "for epoch in tqdm(range(epochs)):\n",
        "  epoch_loss = 0\n",
        "  for X,Y in tqdm(data_loader, total=len(data_loader), leave = False):\n",
        "    X, Y = X.to(device), Y.to(device)\n",
        "    optimizer.zero_grad()\n",
        "    Y_pred = model(X)\n",
        "    loss = criterion(Y_pred, Y)\n",
        "    loss.backward()\n",
        "    optimizer.step()\n",
        "    epoch_loss += loss.item()\n",
        "    step_losses.append(loss.item())\n",
        "  epoch_losses.append(epoch_loss/len(data_loader))"
      ]
    },
    {
      "cell_type": "code",
      "execution_count": null,
      "metadata": {
        "colab": {
          "base_uri": "https://localhost:8080/",
          "height": 462
        },
        "execution": {
          "iopub.execute_input": "2022-03-06T11:47:54.319269Z",
          "iopub.status.busy": "2022-03-06T11:47:54.317158Z",
          "iopub.status.idle": "2022-03-06T11:47:54.670663Z",
          "shell.execute_reply": "2022-03-06T11:47:54.669991Z",
          "shell.execute_reply.started": "2022-03-06T11:47:54.31923Z"
        },
        "id": "cA9V5N7nNgAj",
        "outputId": "aa328b8a-b143-4da5-b2de-9e5b6c63d35e",
        "trusted": true
      },
      "outputs": [],
      "source": [
        "fig, axes = plt.subplots(1,2, figsize=(10,5))\n",
        "axes[0].plot(step_losses)\n",
        "axes[1].plot(epoch_losses)"
      ]
    },
    {
      "cell_type": "code",
      "execution_count": null,
      "metadata": {
        "execution": {
          "iopub.execute_input": "2022-03-06T11:52:19.190276Z",
          "iopub.status.busy": "2022-03-06T11:52:19.189726Z",
          "iopub.status.idle": "2022-03-06T11:52:19.411759Z",
          "shell.execute_reply": "2022-03-06T11:52:19.411024Z",
          "shell.execute_reply.started": "2022-03-06T11:52:19.190236Z"
        },
        "id": "_RoN8CervO4v",
        "trusted": true
      },
      "outputs": [],
      "source": [
        "model_name = \"U-Net.pth\"\n",
        "torch.save(model.state_dict(), model_name)"
      ]
    },
    {
      "cell_type": "markdown",
      "metadata": {
        "id": "edj9YAEywXMC"
      },
      "source": [
        "### 9. Check model predictions"
      ]
    },
    {
      "cell_type": "code",
      "execution_count": null,
      "metadata": {
        "colab": {
          "base_uri": "https://localhost:8080/"
        },
        "execution": {
          "iopub.execute_input": "2022-03-06T11:52:44.040203Z",
          "iopub.status.busy": "2022-03-06T11:52:44.039952Z",
          "iopub.status.idle": "2022-03-06T11:52:44.3983Z",
          "shell.execute_reply": "2022-03-06T11:52:44.397589Z",
          "shell.execute_reply.started": "2022-03-06T11:52:44.040175Z"
        },
        "id": "-GCSmcCqwdbQ",
        "outputId": "13c7ed64-c7ab-4cbc-affd-47a0d9e45297",
        "trusted": true
      },
      "outputs": [],
      "source": [
        "model_path = \"U-Net.pth\"\n",
        "model_ = UNet(num_classes=num_classes).to(device)\n",
        "model_.load_state_dict(torch.load(model_path))"
      ]
    },
    {
      "cell_type": "code",
      "execution_count": null,
      "metadata": {
        "execution": {
          "iopub.execute_input": "2022-03-06T11:58:56.995218Z",
          "iopub.status.busy": "2022-03-06T11:58:56.994664Z",
          "iopub.status.idle": "2022-03-06T11:58:57.003479Z",
          "shell.execute_reply": "2022-03-06T11:58:57.002775Z",
          "shell.execute_reply.started": "2022-03-06T11:58:56.995178Z"
        },
        "id": "y66i0v_H0ssX",
        "trusted": true
      },
      "outputs": [],
      "source": [
        "test_batch_size = 10\n",
        "dataset = CityscapeDataset(val_dir, label_model)\n",
        "data_loader = DataLoader(dataset, batch_size=test_batch_size)"
      ]
    },
    {
      "cell_type": "code",
      "execution_count": null,
      "metadata": {
        "colab": {
          "base_uri": "https://localhost:8080/"
        },
        "execution": {
          "iopub.execute_input": "2022-03-06T11:58:57.434003Z",
          "iopub.status.busy": "2022-03-06T11:58:57.433527Z",
          "iopub.status.idle": "2022-03-06T11:58:57.539081Z",
          "shell.execute_reply": "2022-03-06T11:58:57.538313Z",
          "shell.execute_reply.started": "2022-03-06T11:58:57.433969Z"
        },
        "id": "Qd0ZKwgn1GVz",
        "outputId": "0c52faf3-ae42-4594-da39-ae36d387758b",
        "trusted": true
      },
      "outputs": [],
      "source": [
        "X,Y = next(iter(data_loader))\n",
        "X,Y = X.to(device), Y.to(device)\n",
        "Y_pred = model_(X)\n",
        "print(Y_pred.shape)\n",
        "Y_pred = torch.argmax(Y_pred, dim=1)\n",
        "print(Y_pred.shape)"
      ]
    },
    {
      "cell_type": "code",
      "execution_count": null,
      "metadata": {
        "execution": {
          "iopub.execute_input": "2022-03-06T11:58:57.875309Z",
          "iopub.status.busy": "2022-03-06T11:58:57.873461Z",
          "iopub.status.idle": "2022-03-06T11:58:57.880558Z",
          "shell.execute_reply": "2022-03-06T11:58:57.879734Z",
          "shell.execute_reply.started": "2022-03-06T11:58:57.875275Z"
        },
        "id": "FsPbRjrs1raX",
        "trusted": true
      },
      "outputs": [],
      "source": [
        "inverse_transform = transforms.Compose([\n",
        "    transforms.Normalize((-0.485/0.229, -0.456/0.224, -0.406/0.225), (1/0.229, 1/0.224, 1/0.225))\n",
        "])"
      ]
    },
    {
      "cell_type": "code",
      "execution_count": null,
      "metadata": {
        "colab": {
          "base_uri": "https://localhost:8080/",
          "height": 1000
        },
        "execution": {
          "iopub.execute_input": "2022-03-06T11:58:58.175804Z",
          "iopub.status.busy": "2022-03-06T11:58:58.17498Z",
          "iopub.status.idle": "2022-03-06T11:59:02.203034Z",
          "shell.execute_reply": "2022-03-06T11:59:02.20073Z",
          "shell.execute_reply.started": "2022-03-06T11:58:58.17575Z"
        },
        "id": "6vhf3dec1yqt",
        "outputId": "500564fe-001b-42f2-f1dd-2141a83c1a87",
        "trusted": true
      },
      "outputs": [],
      "source": [
        "fig, axes = plt.subplots(test_batch_size, 3, figsize=(3*5, test_batch_size*5))\n",
        "\n",
        "iou_scores = []\n",
        "\n",
        "for i in range(test_batch_size):\n",
        "\n",
        "    landscape = inverse_transform(X[i]).permute(1, 2, 0).cpu().detach().numpy()\n",
        "    label_class = Y[i].cpu().detach().numpy()\n",
        "    label_class_predicted = Y_pred[i].cpu().detach().numpy()\n",
        "\n",
        "    # IOU score\n",
        "    intersection = np.logical_and(label_class, label_class_predicted)\n",
        "    union = np.logical_or(label_class, label_class_predicted)\n",
        "    iou_score = np.sum(intersection) / np.sum(union)\n",
        "    iou_scores.append(iou_score)\n",
        "\n",
        "    axes[i, 0].imshow(landscape)\n",
        "    axes[i, 0].set_title(\"Landscape\")\n",
        "    axes[i, 1].imshow(label_class)\n",
        "    axes[i, 1].set_title(\"Label Class\")\n",
        "    axes[i, 2].imshow(label_class_predicted)\n",
        "    axes[i, 2].set_title(\"Label Class - Predicted\")"
      ]
    },
    {
      "cell_type": "code",
      "execution_count": null,
      "metadata": {
        "colab": {
          "base_uri": "https://localhost:8080/"
        },
        "execution": {
          "iopub.execute_input": "2022-03-06T11:59:02.207044Z",
          "iopub.status.busy": "2022-03-06T11:59:02.204404Z",
          "iopub.status.idle": "2022-03-06T11:59:02.212239Z",
          "shell.execute_reply": "2022-03-06T11:59:02.21158Z",
          "shell.execute_reply.started": "2022-03-06T11:59:02.20701Z"
        },
        "id": "aTJ_SQyYqGZj",
        "outputId": "786fb5bf-723f-4134-dad6-3e9193dcf4fb",
        "trusted": true
      },
      "outputs": [],
      "source": [
        "print(sum(iou_scores) / len(iou_scores))"
      ]
    },
    {
      "cell_type": "code",
      "execution_count": null,
      "metadata": {
        "id": "Wc1sFifn0P6z"
      },
      "outputs": [],
      "source": [
        "def multiclass_iou(Y_pred, Y, num_classes):\n",
        "\n",
        "    iou_scores = []\n",
        "\n",
        "    for i in range(num_classes):\n",
        "        intersection = np.logical_and(Y_pred == i, Y == i)\n",
        "        union = np.logical_or(Y_pred == i, Y == i)\n",
        "        iou_score = np.sum(intersection) / np.sum(union)\n",
        "        iou_scores.append(iou_score)\n",
        "\n",
        "    return iou_scores\n",
        "\n",
        "test_batch_size = 10\n",
        "multiclass_iou_scores = multiclass_iou(Y_pred.cpu().detach().numpy(), Y.cpu().detach().numpy(), num_classes)"
      ]
    },
    {
      "cell_type": "code",
      "execution_count": null,
      "metadata": {
        "colab": {
          "base_uri": "https://localhost:8080/"
        },
        "id": "uhsAltfg0P65",
        "outputId": "50f2157b-691b-4c4e-88fa-0713e3964f6a"
      },
      "outputs": [],
      "source": [
        "multiclass_iou_scores"
      ]
    },
    {
      "cell_type": "code",
      "execution_count": null,
      "metadata": {
        "colab": {
          "base_uri": "https://localhost:8080/"
        },
        "id": "W7Icdk1r0P66",
        "outputId": "e2c88c8e-2b83-437f-a9bc-f483dfee3d36"
      },
      "outputs": [],
      "source": [
        "print(sum(multiclass_iou_scores) / len(multiclass_iou_scores))"
      ]
    },
    {
      "cell_type": "code",
      "execution_count": null,
      "metadata": {
        "id": "qWhG0flleY_9"
      },
      "outputs": [],
      "source": [
        "# Unet Model without Skip Connections\n",
        "class UNetwoSkip(nn.Module):\n",
        "\n",
        "    def __init__(self, num_classes):\n",
        "        super(UNetwoSkip, self).__init__()\n",
        "        self.num_classes = num_classes\n",
        "        self.contracting_11 = self.conv_block(in_channels=3, out_channels=64)\n",
        "        self.contracting_12 = nn.MaxPool2d(kernel_size=2, stride=2)\n",
        "        self.contracting_21 = self.conv_block(in_channels=64, out_channels=128)\n",
        "        self.contracting_22 = nn.MaxPool2d(kernel_size=2, stride=2)\n",
        "        self.contracting_31 = self.conv_block(in_channels=128, out_channels=256)\n",
        "        self.contracting_32 = nn.MaxPool2d(kernel_size=2, stride=2)\n",
        "        self.contracting_41 = self.conv_block(in_channels=256, out_channels=512)\n",
        "        self.contracting_42 = nn.MaxPool2d(kernel_size=2, stride=2)\n",
        "        self.middle = self.conv_block(in_channels=512, out_channels=1024)\n",
        "        self.expansive_11 = nn.ConvTranspose2d(in_channels=1024, out_channels=512, kernel_size=3, stride=2, padding=1, output_padding=1)\n",
        "        self.expansive_12 = self.conv_block(in_channels=512, out_channels=512)\n",
        "        self.expansive_21 = nn.ConvTranspose2d(in_channels=512, out_channels=256, kernel_size=3, stride=2, padding=1, output_padding=1)\n",
        "        self.expansive_22 = self.conv_block(in_channels=256, out_channels=256)\n",
        "        self.expansive_31 = nn.ConvTranspose2d(in_channels=256, out_channels=128, kernel_size=3, stride=2, padding=1, output_padding=1)\n",
        "        self.expansive_32 = self.conv_block(in_channels=128, out_channels=128)\n",
        "        self.expansive_41 = nn.ConvTranspose2d(in_channels=128, out_channels=64, kernel_size=3, stride=2, padding=1, output_padding=1)\n",
        "        self.expansive_42 = self.conv_block(in_channels=64, out_channels=64)\n",
        "        self.output = nn.Conv2d(in_channels=64, out_channels=num_classes, kernel_size=3, stride=1, padding=1)\n",
        "\n",
        "    def conv_block(self, in_channels, out_channels):\n",
        "        block = nn.Sequential(nn.Conv2d(in_channels=in_channels, out_channels=out_channels, kernel_size=3, stride=1, padding=1),\n",
        "                                    nn.ReLU(),\n",
        "                                    nn.BatchNorm2d(num_features=out_channels),\n",
        "                                    nn.Conv2d(in_channels=out_channels, out_channels=out_channels, kernel_size=3, stride=1, padding=1),\n",
        "                                    nn.ReLU(),\n",
        "                                    nn.BatchNorm2d(num_features=out_channels))\n",
        "        return block\n",
        "\n",
        "    def forward(self, X):\n",
        "        contracting_11_out = self.contracting_11(X)\n",
        "        contracting_12_out = self.contracting_12(contracting_11_out)\n",
        "        contracting_21_out = self.contracting_21(contracting_12_out)\n",
        "        contracting_22_out = self.contracting_22(contracting_21_out)\n",
        "        contracting_31_out = self.contracting_31(contracting_22_out)\n",
        "        contracting_32_out = self.contracting_32(contracting_31_out)\n",
        "        contracting_41_out = self.contracting_41(contracting_32_out)\n",
        "        contracting_42_out = self.contracting_42(contracting_41_out)\n",
        "        middle_out = self.middle(contracting_42_out)\n",
        "        expansive_11_out = self.expansive_11(middle_out)\n",
        "        expansive_12_out = self.expansive_12(expansive_11_out)\n",
        "        expansive_21_out = self.expansive_21(expansive_12_out)\n",
        "        expansive_22_out = self.expansive_22(expansive_21_out)\n",
        "        expansive_31_out = self.expansive_31(expansive_22_out)\n",
        "        expansive_32_out = self.expansive_32(expansive_31_out)\n",
        "        expansive_41_out = self.expansive_41(expansive_32_out)\n",
        "        expansive_42_out = self.expansive_42(expansive_41_out)\n",
        "        output_out = self.output(expansive_42_out)\n",
        "        return output_out"
      ]
    },
    {
      "cell_type": "code",
      "execution_count": null,
      "metadata": {
        "execution": {
          "iopub.execute_input": "2022-03-06T11:22:40.630994Z",
          "iopub.status.busy": "2022-03-06T11:22:40.630747Z",
          "iopub.status.idle": "2022-03-06T11:22:40.942866Z",
          "shell.execute_reply": "2022-03-06T11:22:40.942039Z",
          "shell.execute_reply.started": "2022-03-06T11:22:40.630961Z"
        },
        "id": "tDco_zMwulxP",
        "trusted": true
      },
      "outputs": [],
      "source": [
        "model = UNetwoSkip(num_classes=num_classes)"
      ]
    },
    {
      "cell_type": "code",
      "execution_count": null,
      "metadata": {
        "colab": {
          "base_uri": "https://localhost:8080/"
        },
        "execution": {
          "iopub.execute_input": "2022-03-06T11:22:40.944747Z",
          "iopub.status.busy": "2022-03-06T11:22:40.944435Z",
          "iopub.status.idle": "2022-03-06T11:22:41.009679Z",
          "shell.execute_reply": "2022-03-06T11:22:41.008968Z",
          "shell.execute_reply.started": "2022-03-06T11:22:40.944711Z"
        },
        "id": "hSYPtLTWulxX",
        "outputId": "3549aa2d-4661-4e46-9b19-0508824991ba",
        "trusted": true
      },
      "outputs": [],
      "source": [
        "data_loader = DataLoader(dataset, batch_size = 4)\n",
        "print(len(dataset), len(data_loader))\n",
        "\n",
        "X, Y = iter(data_loader).__next__()\n",
        "print(X.shape, Y.shape)"
      ]
    },
    {
      "cell_type": "code",
      "execution_count": null,
      "metadata": {
        "colab": {
          "base_uri": "https://localhost:8080/"
        },
        "execution": {
          "iopub.execute_input": "2022-03-06T11:22:41.011131Z",
          "iopub.status.busy": "2022-03-06T11:22:41.010745Z",
          "iopub.status.idle": "2022-03-06T11:22:46.791256Z",
          "shell.execute_reply": "2022-03-06T11:22:46.79056Z",
          "shell.execute_reply.started": "2022-03-06T11:22:41.011096Z"
        },
        "id": "b8mxEK4SulxX",
        "outputId": "1ca741f9-bd46-426c-ab40-8492e83c9fa0",
        "trusted": true
      },
      "outputs": [],
      "source": [
        "Y_pred = model(X)\n",
        "print(Y_pred.shape)"
      ]
    },
    {
      "cell_type": "markdown",
      "metadata": {
        "id": "PTHktaeGulxX"
      },
      "source": [
        "### 8. Train the model"
      ]
    },
    {
      "cell_type": "code",
      "execution_count": null,
      "metadata": {
        "execution": {
          "iopub.execute_input": "2022-03-06T11:22:46.792924Z",
          "iopub.status.busy": "2022-03-06T11:22:46.792678Z",
          "iopub.status.idle": "2022-03-06T11:22:46.796813Z",
          "shell.execute_reply": "2022-03-06T11:22:46.796071Z",
          "shell.execute_reply.started": "2022-03-06T11:22:46.79289Z"
        },
        "id": "4O_0Z1YxulxX",
        "trusted": true
      },
      "outputs": [],
      "source": [
        "batch_size = 16\n",
        "\n",
        "epochs = 1\n",
        "lr = 0.01"
      ]
    },
    {
      "cell_type": "code",
      "execution_count": null,
      "metadata": {
        "execution": {
          "iopub.execute_input": "2022-03-06T11:22:46.799246Z",
          "iopub.status.busy": "2022-03-06T11:22:46.798795Z",
          "iopub.status.idle": "2022-03-06T11:22:46.812564Z",
          "shell.execute_reply": "2022-03-06T11:22:46.811785Z",
          "shell.execute_reply.started": "2022-03-06T11:22:46.799211Z"
        },
        "id": "z_XpooovulxY",
        "trusted": true
      },
      "outputs": [],
      "source": [
        "dataset = CityscapeDataset(train_dir, label_model)\n",
        "data_loader = DataLoader(dataset, batch_size = batch_size)"
      ]
    },
    {
      "cell_type": "code",
      "execution_count": null,
      "metadata": {
        "execution": {
          "iopub.execute_input": "2022-03-06T11:22:46.815797Z",
          "iopub.status.busy": "2022-03-06T11:22:46.815385Z",
          "iopub.status.idle": "2022-03-06T11:22:50.019393Z",
          "shell.execute_reply": "2022-03-06T11:22:50.01847Z",
          "shell.execute_reply.started": "2022-03-06T11:22:46.815763Z"
        },
        "id": "eNskwzEJulxY",
        "trusted": true
      },
      "outputs": [],
      "source": [
        "model = UNetwoSkip(num_classes = num_classes).to(device)"
      ]
    },
    {
      "cell_type": "code",
      "execution_count": null,
      "metadata": {
        "execution": {
          "iopub.execute_input": "2022-03-06T11:22:50.020865Z",
          "iopub.status.busy": "2022-03-06T11:22:50.020602Z",
          "iopub.status.idle": "2022-03-06T11:22:50.026491Z",
          "shell.execute_reply": "2022-03-06T11:22:50.025344Z",
          "shell.execute_reply.started": "2022-03-06T11:22:50.020831Z"
        },
        "id": "8oWY5V3bulxY",
        "trusted": true
      },
      "outputs": [],
      "source": [
        "criterion = nn.CrossEntropyLoss()\n",
        "optimizer = optim.Adam(model.parameters(), lr = lr)"
      ]
    },
    {
      "cell_type": "code",
      "execution_count": null,
      "metadata": {
        "colab": {
          "base_uri": "https://localhost:8080/",
          "height": 49,
          "referenced_widgets": [
            "1c6ff1678930403e98f586a86105da67",
            "75a1f3a265764cfca59d3bc1b553d063",
            "d61564ca0e0e47aaaa617a1029022eae",
            "3ebe9c7238e848d1b5e076340e055830",
            "fa95b05176534e89910b124f70813a6e",
            "0a74ef07738b4fd99509043f5ea2bb32",
            "6f7627704e924ee2addc52b254086116",
            "36bc511d27f14b508a81daf87908e992",
            "bcf44b6d6086470d936373d02201bd5d",
            "1752bbce18274dd2805b3bcd967c611d",
            "7ff3e1053b2e4f47b348615a44d69203",
            "409319128a3b467b91fdeb19f3761270",
            "3a68a6c7574f4a5694d369dfe6f7e431",
            "fdbc052ea6df46e58116238d78851dfa",
            "2b9134dc6e644a9dbd54baa9dca263ee",
            "38dff98f0a2f4bcb86160e067cdeab6d",
            "5c92d19b9c63443483f1597067c0947b",
            "ddccae9eb1ee42dbb53b432980d1dc19",
            "17135428f60f41bdbded9bab4dfa63f4",
            "4e9a2acbfabc407bab84eeaa8eb41213",
            "cf77e7f4202b440ca107bb19d08b5186",
            "d087a262db444e00b6d435281bb5642d"
          ]
        },
        "execution": {
          "iopub.execute_input": "2022-03-06T11:22:50.028644Z",
          "iopub.status.busy": "2022-03-06T11:22:50.027926Z",
          "iopub.status.idle": "2022-03-06T11:47:54.30838Z",
          "shell.execute_reply": "2022-03-06T11:47:54.307755Z",
          "shell.execute_reply.started": "2022-03-06T11:22:50.028607Z"
        },
        "id": "o08RemZBulxY",
        "outputId": "6d6a7f8b-e8d8-4b0a-b6a7-7d14e12e013e",
        "trusted": true
      },
      "outputs": [],
      "source": [
        "step_losses = []\n",
        "epoch_losses = []\n",
        "\n",
        "for epoch in tqdm(range(epochs)):\n",
        "  epoch_loss = 0\n",
        "  for X,Y in tqdm(data_loader, total=len(data_loader), leave = False):\n",
        "    X, Y = X.to(device), Y.to(device)\n",
        "    optimizer.zero_grad()\n",
        "    Y_pred = model(X)\n",
        "    loss = criterion(Y_pred, Y)\n",
        "    loss.backward()\n",
        "    optimizer.step()\n",
        "    epoch_loss += loss.item()\n",
        "    step_losses.append(loss.item())\n",
        "  epoch_losses.append(epoch_loss/len(data_loader))"
      ]
    },
    {
      "cell_type": "code",
      "execution_count": null,
      "metadata": {
        "colab": {
          "base_uri": "https://localhost:8080/",
          "height": 462
        },
        "execution": {
          "iopub.execute_input": "2022-03-06T11:47:54.319269Z",
          "iopub.status.busy": "2022-03-06T11:47:54.317158Z",
          "iopub.status.idle": "2022-03-06T11:47:54.670663Z",
          "shell.execute_reply": "2022-03-06T11:47:54.669991Z",
          "shell.execute_reply.started": "2022-03-06T11:47:54.31923Z"
        },
        "id": "ABf4oQV0ulxY",
        "outputId": "e8c868cb-118e-4cc9-9c30-2d0566c75108",
        "trusted": true
      },
      "outputs": [],
      "source": [
        "fig, axes = plt.subplots(1,2, figsize=(10,5))\n",
        "axes[0].plot(step_losses)\n",
        "axes[1].plot(epoch_losses)"
      ]
    },
    {
      "cell_type": "code",
      "execution_count": null,
      "metadata": {
        "execution": {
          "iopub.execute_input": "2022-03-06T11:52:19.190276Z",
          "iopub.status.busy": "2022-03-06T11:52:19.189726Z",
          "iopub.status.idle": "2022-03-06T11:52:19.411759Z",
          "shell.execute_reply": "2022-03-06T11:52:19.411024Z",
          "shell.execute_reply.started": "2022-03-06T11:52:19.190236Z"
        },
        "id": "uQIBgsTCulxZ",
        "trusted": true
      },
      "outputs": [],
      "source": [
        "model_name = \"U-Net-wo-Skip.pth\"\n",
        "torch.save(model.state_dict(), model_name)"
      ]
    },
    {
      "cell_type": "markdown",
      "metadata": {
        "id": "RJgRXpPIulxZ"
      },
      "source": [
        "### 9. Check model predictions"
      ]
    },
    {
      "cell_type": "code",
      "execution_count": null,
      "metadata": {
        "colab": {
          "base_uri": "https://localhost:8080/"
        },
        "execution": {
          "iopub.execute_input": "2022-03-06T11:52:44.040203Z",
          "iopub.status.busy": "2022-03-06T11:52:44.039952Z",
          "iopub.status.idle": "2022-03-06T11:52:44.3983Z",
          "shell.execute_reply": "2022-03-06T11:52:44.397589Z",
          "shell.execute_reply.started": "2022-03-06T11:52:44.040175Z"
        },
        "id": "Lk06cahWulxZ",
        "outputId": "4cabe132-cfa9-4875-ce10-005e439ddac7",
        "trusted": true
      },
      "outputs": [],
      "source": [
        "model_path = \"U-Net-wo-Skip.pth\"\n",
        "model_ = UNetwoSkip(num_classes=num_classes).to(device)\n",
        "model_.load_state_dict(torch.load(model_path))"
      ]
    },
    {
      "cell_type": "code",
      "execution_count": null,
      "metadata": {
        "execution": {
          "iopub.execute_input": "2022-03-06T11:58:56.995218Z",
          "iopub.status.busy": "2022-03-06T11:58:56.994664Z",
          "iopub.status.idle": "2022-03-06T11:58:57.003479Z",
          "shell.execute_reply": "2022-03-06T11:58:57.002775Z",
          "shell.execute_reply.started": "2022-03-06T11:58:56.995178Z"
        },
        "id": "_cn_v_CXulxZ",
        "trusted": true
      },
      "outputs": [],
      "source": [
        "test_batch_size = 10\n",
        "dataset = CityscapeDataset(val_dir, label_model)\n",
        "data_loader = DataLoader(dataset, batch_size=test_batch_size)"
      ]
    },
    {
      "cell_type": "code",
      "execution_count": null,
      "metadata": {
        "colab": {
          "base_uri": "https://localhost:8080/"
        },
        "execution": {
          "iopub.execute_input": "2022-03-06T11:58:57.434003Z",
          "iopub.status.busy": "2022-03-06T11:58:57.433527Z",
          "iopub.status.idle": "2022-03-06T11:58:57.539081Z",
          "shell.execute_reply": "2022-03-06T11:58:57.538313Z",
          "shell.execute_reply.started": "2022-03-06T11:58:57.433969Z"
        },
        "id": "26yez7ZHulxZ",
        "outputId": "af338c1b-b56d-44f5-d261-7e1c8abcaca8",
        "trusted": true
      },
      "outputs": [],
      "source": [
        "X,Y = next(iter(data_loader))\n",
        "X,Y = X.to(device), Y.to(device)\n",
        "Y_pred = model_(X)\n",
        "print(Y_pred.shape)\n",
        "Y_pred = torch.argmax(Y_pred, dim=1)\n",
        "print(Y_pred.shape)"
      ]
    },
    {
      "cell_type": "code",
      "execution_count": null,
      "metadata": {
        "execution": {
          "iopub.execute_input": "2022-03-06T11:58:57.875309Z",
          "iopub.status.busy": "2022-03-06T11:58:57.873461Z",
          "iopub.status.idle": "2022-03-06T11:58:57.880558Z",
          "shell.execute_reply": "2022-03-06T11:58:57.879734Z",
          "shell.execute_reply.started": "2022-03-06T11:58:57.875275Z"
        },
        "id": "CgXEs4vKulxa",
        "trusted": true
      },
      "outputs": [],
      "source": [
        "inverse_transform = transforms.Compose([\n",
        "    transforms.Normalize((-0.485/0.229, -0.456/0.224, -0.406/0.225), (1/0.229, 1/0.224, 1/0.225))\n",
        "])"
      ]
    },
    {
      "cell_type": "code",
      "execution_count": null,
      "metadata": {
        "colab": {
          "base_uri": "https://localhost:8080/",
          "height": 1000
        },
        "execution": {
          "iopub.execute_input": "2022-03-06T11:58:58.175804Z",
          "iopub.status.busy": "2022-03-06T11:58:58.17498Z",
          "iopub.status.idle": "2022-03-06T11:59:02.203034Z",
          "shell.execute_reply": "2022-03-06T11:59:02.20073Z",
          "shell.execute_reply.started": "2022-03-06T11:58:58.17575Z"
        },
        "id": "z4qkXfp3ulxa",
        "outputId": "c8baac3b-873f-4ffa-8aba-1205c7910a71",
        "trusted": true
      },
      "outputs": [],
      "source": [
        "fig, axes = plt.subplots(test_batch_size, 3, figsize=(3*5, test_batch_size*5))\n",
        "\n",
        "iou_scores = []\n",
        "\n",
        "for i in range(test_batch_size):\n",
        "\n",
        "    landscape = inverse_transform(X[i]).permute(1, 2, 0).cpu().detach().numpy()\n",
        "    label_class = Y[i].cpu().detach().numpy()\n",
        "    label_class_predicted = Y_pred[i].cpu().detach().numpy()\n",
        "\n",
        "    # IOU score\n",
        "    intersection = np.logical_and(label_class, label_class_predicted)\n",
        "    union = np.logical_or(label_class, label_class_predicted)\n",
        "    iou_score = np.sum(intersection) / np.sum(union)\n",
        "    iou_scores.append(iou_score)\n",
        "\n",
        "    axes[i, 0].imshow(landscape)\n",
        "    axes[i, 0].set_title(\"Landscape\")\n",
        "    axes[i, 1].imshow(label_class)\n",
        "    axes[i, 1].set_title(\"Label Class\")\n",
        "    axes[i, 2].imshow(label_class_predicted)\n",
        "    axes[i, 2].set_title(\"Label Class - Predicted\")"
      ]
    },
    {
      "cell_type": "code",
      "execution_count": null,
      "metadata": {
        "colab": {
          "base_uri": "https://localhost:8080/"
        },
        "execution": {
          "iopub.execute_input": "2022-03-06T11:59:02.207044Z",
          "iopub.status.busy": "2022-03-06T11:59:02.204404Z",
          "iopub.status.idle": "2022-03-06T11:59:02.212239Z",
          "shell.execute_reply": "2022-03-06T11:59:02.21158Z",
          "shell.execute_reply.started": "2022-03-06T11:59:02.20701Z"
        },
        "id": "SxuBRykfulxa",
        "outputId": "066d3f9b-e1e9-4f8d-b174-4fd80f4efd20",
        "trusted": true
      },
      "outputs": [],
      "source": [
        "print(sum(iou_scores) / len(iou_scores))"
      ]
    },
    {
      "cell_type": "markdown",
      "metadata": {},
      "source": [
        "As we can observe, without skip connections, the output predicted labels are only 3 in number, while with the skip connections, the Unet was able to predict 5 of the 10 classes. \n",
        "\n",
        "Also, qualitatively, a lot of information seems to be lost in the model without skip connections. Especially the road and the car are not predicted correctly, and the boundaries are not sharp. \n",
        "\n",
        "The IoU scores are however, quite similar for both the models, with only a difference of 0.002% in the validation set. Thus, there is an error in our calculation of the IoU score, and we need to rectify it."
      ]
    },
    {
      "cell_type": "code",
      "execution_count": null,
      "metadata": {
        "colab": {
          "base_uri": "https://localhost:8080/"
        },
        "id": "iXEDYHsKyc9H",
        "outputId": "47bd801b-8fe7-46cb-efd4-cd4b5e42f6e2"
      },
      "outputs": [],
      "source": [
        "np.unique(label_class)"
      ]
    },
    {
      "cell_type": "markdown",
      "metadata": {
        "id": "RC_p00DjzIhN"
      },
      "source": [
        "There are 10 unique labels for the segmentation. However, the implemented IoU assumes there is a binary segmentation and considers only foreground or background. In a multi-class setting, we have multiple classes, and a pixel can belong to any one of them."
      ]
    },
    {
      "cell_type": "code",
      "execution_count": null,
      "metadata": {
        "id": "9C7vzvuEz0je"
      },
      "outputs": [],
      "source": [
        "def multiclass_iou(Y_pred, Y, num_classes):\n",
        "\n",
        "    iou_scores = []\n",
        "\n",
        "    for i in range(num_classes):\n",
        "        intersection = np.logical_and(Y_pred == i, Y == i)\n",
        "        union = np.logical_or(Y_pred == i, Y == i)\n",
        "        iou_score = np.sum(intersection) / np.sum(union)\n",
        "        iou_scores.append(iou_score)\n",
        "\n",
        "    return iou_scores\n",
        "\n",
        "test_batch_size = 10\n",
        "multiclass_iou_scores = multiclass_iou(Y_pred.cpu().detach().numpy(), Y.cpu().detach().numpy(), num_classes)"
      ]
    },
    {
      "cell_type": "code",
      "execution_count": null,
      "metadata": {
        "colab": {
          "base_uri": "https://localhost:8080/"
        },
        "id": "eQKPCWXSz1xJ",
        "outputId": "89c4c43c-4d54-41b0-f0e5-d9b9c054e7db"
      },
      "outputs": [],
      "source": [
        "multiclass_iou_scores"
      ]
    },
    {
      "cell_type": "code",
      "execution_count": null,
      "metadata": {
        "colab": {
          "base_uri": "https://localhost:8080/"
        },
        "id": "oMlOcdvc0D52",
        "outputId": "1c465258-0800-496b-d524-80a833827dd4"
      },
      "outputs": [],
      "source": [
        "print(sum(multiclass_iou_scores) / len(multiclass_iou_scores))"
      ]
    },
    {
      "cell_type": "markdown",
      "metadata": {},
      "source": [
        "The mIoU score is different for the model with and without the skip connections. The model with skip connections has a higher mIoU score compared to the model without skip connections. This is because the skip connections help in preserving the spatial information and hence the model with skip connections performs better in segmenting the images."
      ]
    }
  ],
  "metadata": {
    "accelerator": "GPU",
    "colab": {
      "gpuType": "T4",
      "name": "Image Segmentation with UNet PyTorch",
      "provenance": []
    },
    "kernelspec": {
      "display_name": "Python 3",
      "name": "python3"
    },
    "language_info": {
      "codemirror_mode": {
        "name": "ipython",
        "version": 3
      },
      "file_extension": ".py",
      "mimetype": "text/x-python",
      "name": "python",
      "nbconvert_exporter": "python",
      "pygments_lexer": "ipython3",
      "version": "3.6.4"
    },
    "widgets": {
      "application/vnd.jupyter.widget-state+json": {
        "04dc25b54da840dda6d475b52a543ff3": {
          "model_module": "@jupyter-widgets/base",
          "model_module_version": "1.2.0",
          "model_name": "LayoutModel",
          "state": {
            "_model_module": "@jupyter-widgets/base",
            "_model_module_version": "1.2.0",
            "_model_name": "LayoutModel",
            "_view_count": null,
            "_view_module": "@jupyter-widgets/base",
            "_view_module_version": "1.2.0",
            "_view_name": "LayoutView",
            "align_content": null,
            "align_items": null,
            "align_self": null,
            "border": null,
            "bottom": null,
            "display": null,
            "flex": null,
            "flex_flow": null,
            "grid_area": null,
            "grid_auto_columns": null,
            "grid_auto_flow": null,
            "grid_auto_rows": null,
            "grid_column": null,
            "grid_gap": null,
            "grid_row": null,
            "grid_template_areas": null,
            "grid_template_columns": null,
            "grid_template_rows": null,
            "height": null,
            "justify_content": null,
            "justify_items": null,
            "left": null,
            "margin": null,
            "max_height": null,
            "max_width": null,
            "min_height": null,
            "min_width": null,
            "object_fit": null,
            "object_position": null,
            "order": null,
            "overflow": null,
            "overflow_x": null,
            "overflow_y": null,
            "padding": null,
            "right": null,
            "top": null,
            "visibility": null,
            "width": null
          }
        },
        "07163dd52e034531ae76a63f2e4a0564": {
          "model_module": "@jupyter-widgets/controls",
          "model_module_version": "1.5.0",
          "model_name": "DescriptionStyleModel",
          "state": {
            "_model_module": "@jupyter-widgets/controls",
            "_model_module_version": "1.5.0",
            "_model_name": "DescriptionStyleModel",
            "_view_count": null,
            "_view_module": "@jupyter-widgets/base",
            "_view_module_version": "1.2.0",
            "_view_name": "StyleView",
            "description_width": ""
          }
        },
        "075d652e76294d519cbc4fe300b835ef": {
          "model_module": "@jupyter-widgets/base",
          "model_module_version": "1.2.0",
          "model_name": "LayoutModel",
          "state": {
            "_model_module": "@jupyter-widgets/base",
            "_model_module_version": "1.2.0",
            "_model_name": "LayoutModel",
            "_view_count": null,
            "_view_module": "@jupyter-widgets/base",
            "_view_module_version": "1.2.0",
            "_view_name": "LayoutView",
            "align_content": null,
            "align_items": null,
            "align_self": null,
            "border": null,
            "bottom": null,
            "display": null,
            "flex": null,
            "flex_flow": null,
            "grid_area": null,
            "grid_auto_columns": null,
            "grid_auto_flow": null,
            "grid_auto_rows": null,
            "grid_column": null,
            "grid_gap": null,
            "grid_row": null,
            "grid_template_areas": null,
            "grid_template_columns": null,
            "grid_template_rows": null,
            "height": null,
            "justify_content": null,
            "justify_items": null,
            "left": null,
            "margin": null,
            "max_height": null,
            "max_width": null,
            "min_height": null,
            "min_width": null,
            "object_fit": null,
            "object_position": null,
            "order": null,
            "overflow": null,
            "overflow_x": null,
            "overflow_y": null,
            "padding": null,
            "right": null,
            "top": null,
            "visibility": "hidden",
            "width": null
          }
        },
        "0a74ef07738b4fd99509043f5ea2bb32": {
          "model_module": "@jupyter-widgets/base",
          "model_module_version": "1.2.0",
          "model_name": "LayoutModel",
          "state": {
            "_model_module": "@jupyter-widgets/base",
            "_model_module_version": "1.2.0",
            "_model_name": "LayoutModel",
            "_view_count": null,
            "_view_module": "@jupyter-widgets/base",
            "_view_module_version": "1.2.0",
            "_view_name": "LayoutView",
            "align_content": null,
            "align_items": null,
            "align_self": null,
            "border": null,
            "bottom": null,
            "display": null,
            "flex": null,
            "flex_flow": null,
            "grid_area": null,
            "grid_auto_columns": null,
            "grid_auto_flow": null,
            "grid_auto_rows": null,
            "grid_column": null,
            "grid_gap": null,
            "grid_row": null,
            "grid_template_areas": null,
            "grid_template_columns": null,
            "grid_template_rows": null,
            "height": null,
            "justify_content": null,
            "justify_items": null,
            "left": null,
            "margin": null,
            "max_height": null,
            "max_width": null,
            "min_height": null,
            "min_width": null,
            "object_fit": null,
            "object_position": null,
            "order": null,
            "overflow": null,
            "overflow_x": null,
            "overflow_y": null,
            "padding": null,
            "right": null,
            "top": null,
            "visibility": null,
            "width": null
          }
        },
        "17135428f60f41bdbded9bab4dfa63f4": {
          "model_module": "@jupyter-widgets/base",
          "model_module_version": "1.2.0",
          "model_name": "LayoutModel",
          "state": {
            "_model_module": "@jupyter-widgets/base",
            "_model_module_version": "1.2.0",
            "_model_name": "LayoutModel",
            "_view_count": null,
            "_view_module": "@jupyter-widgets/base",
            "_view_module_version": "1.2.0",
            "_view_name": "LayoutView",
            "align_content": null,
            "align_items": null,
            "align_self": null,
            "border": null,
            "bottom": null,
            "display": null,
            "flex": null,
            "flex_flow": null,
            "grid_area": null,
            "grid_auto_columns": null,
            "grid_auto_flow": null,
            "grid_auto_rows": null,
            "grid_column": null,
            "grid_gap": null,
            "grid_row": null,
            "grid_template_areas": null,
            "grid_template_columns": null,
            "grid_template_rows": null,
            "height": null,
            "justify_content": null,
            "justify_items": null,
            "left": null,
            "margin": null,
            "max_height": null,
            "max_width": null,
            "min_height": null,
            "min_width": null,
            "object_fit": null,
            "object_position": null,
            "order": null,
            "overflow": null,
            "overflow_x": null,
            "overflow_y": null,
            "padding": null,
            "right": null,
            "top": null,
            "visibility": null,
            "width": null
          }
        },
        "1731d4d87db549d5bd0935d59979cfba": {
          "model_module": "@jupyter-widgets/controls",
          "model_module_version": "1.5.0",
          "model_name": "ProgressStyleModel",
          "state": {
            "_model_module": "@jupyter-widgets/controls",
            "_model_module_version": "1.5.0",
            "_model_name": "ProgressStyleModel",
            "_view_count": null,
            "_view_module": "@jupyter-widgets/base",
            "_view_module_version": "1.2.0",
            "_view_name": "StyleView",
            "bar_color": null,
            "description_width": ""
          }
        },
        "1752bbce18274dd2805b3bcd967c611d": {
          "model_module": "@jupyter-widgets/base",
          "model_module_version": "1.2.0",
          "model_name": "LayoutModel",
          "state": {
            "_model_module": "@jupyter-widgets/base",
            "_model_module_version": "1.2.0",
            "_model_name": "LayoutModel",
            "_view_count": null,
            "_view_module": "@jupyter-widgets/base",
            "_view_module_version": "1.2.0",
            "_view_name": "LayoutView",
            "align_content": null,
            "align_items": null,
            "align_self": null,
            "border": null,
            "bottom": null,
            "display": null,
            "flex": null,
            "flex_flow": null,
            "grid_area": null,
            "grid_auto_columns": null,
            "grid_auto_flow": null,
            "grid_auto_rows": null,
            "grid_column": null,
            "grid_gap": null,
            "grid_row": null,
            "grid_template_areas": null,
            "grid_template_columns": null,
            "grid_template_rows": null,
            "height": null,
            "justify_content": null,
            "justify_items": null,
            "left": null,
            "margin": null,
            "max_height": null,
            "max_width": null,
            "min_height": null,
            "min_width": null,
            "object_fit": null,
            "object_position": null,
            "order": null,
            "overflow": null,
            "overflow_x": null,
            "overflow_y": null,
            "padding": null,
            "right": null,
            "top": null,
            "visibility": null,
            "width": null
          }
        },
        "1c6ff1678930403e98f586a86105da67": {
          "model_module": "@jupyter-widgets/controls",
          "model_module_version": "1.5.0",
          "model_name": "HBoxModel",
          "state": {
            "_dom_classes": [],
            "_model_module": "@jupyter-widgets/controls",
            "_model_module_version": "1.5.0",
            "_model_name": "HBoxModel",
            "_view_count": null,
            "_view_module": "@jupyter-widgets/controls",
            "_view_module_version": "1.5.0",
            "_view_name": "HBoxView",
            "box_style": "",
            "children": [
              "IPY_MODEL_75a1f3a265764cfca59d3bc1b553d063",
              "IPY_MODEL_d61564ca0e0e47aaaa617a1029022eae",
              "IPY_MODEL_3ebe9c7238e848d1b5e076340e055830"
            ],
            "layout": "IPY_MODEL_fa95b05176534e89910b124f70813a6e"
          }
        },
        "223ba734e06d4f9380354bdf263cb9ba": {
          "model_module": "@jupyter-widgets/base",
          "model_module_version": "1.2.0",
          "model_name": "LayoutModel",
          "state": {
            "_model_module": "@jupyter-widgets/base",
            "_model_module_version": "1.2.0",
            "_model_name": "LayoutModel",
            "_view_count": null,
            "_view_module": "@jupyter-widgets/base",
            "_view_module_version": "1.2.0",
            "_view_name": "LayoutView",
            "align_content": null,
            "align_items": null,
            "align_self": null,
            "border": null,
            "bottom": null,
            "display": null,
            "flex": null,
            "flex_flow": null,
            "grid_area": null,
            "grid_auto_columns": null,
            "grid_auto_flow": null,
            "grid_auto_rows": null,
            "grid_column": null,
            "grid_gap": null,
            "grid_row": null,
            "grid_template_areas": null,
            "grid_template_columns": null,
            "grid_template_rows": null,
            "height": null,
            "justify_content": null,
            "justify_items": null,
            "left": null,
            "margin": null,
            "max_height": null,
            "max_width": null,
            "min_height": null,
            "min_width": null,
            "object_fit": null,
            "object_position": null,
            "order": null,
            "overflow": null,
            "overflow_x": null,
            "overflow_y": null,
            "padding": null,
            "right": null,
            "top": null,
            "visibility": null,
            "width": null
          }
        },
        "27bc142471ef4ff48e4fc6d62175d467": {
          "model_module": "@jupyter-widgets/controls",
          "model_module_version": "1.5.0",
          "model_name": "DescriptionStyleModel",
          "state": {
            "_model_module": "@jupyter-widgets/controls",
            "_model_module_version": "1.5.0",
            "_model_name": "DescriptionStyleModel",
            "_view_count": null,
            "_view_module": "@jupyter-widgets/base",
            "_view_module_version": "1.2.0",
            "_view_name": "StyleView",
            "description_width": ""
          }
        },
        "29ba3f2ca2b04adb93db48c6b79dc8dc": {
          "model_module": "@jupyter-widgets/controls",
          "model_module_version": "1.5.0",
          "model_name": "HTMLModel",
          "state": {
            "_dom_classes": [],
            "_model_module": "@jupyter-widgets/controls",
            "_model_module_version": "1.5.0",
            "_model_name": "HTMLModel",
            "_view_count": null,
            "_view_module": "@jupyter-widgets/controls",
            "_view_module_version": "1.5.0",
            "_view_name": "HTMLView",
            "description": "",
            "description_tooltip": null,
            "layout": "IPY_MODEL_04dc25b54da840dda6d475b52a543ff3",
            "placeholder": "​",
            "style": "IPY_MODEL_b7709fea98d44ed89969612c7fccfa2f",
            "value": "100%"
          }
        },
        "2b9134dc6e644a9dbd54baa9dca263ee": {
          "model_module": "@jupyter-widgets/controls",
          "model_module_version": "1.5.0",
          "model_name": "HTMLModel",
          "state": {
            "_dom_classes": [],
            "_model_module": "@jupyter-widgets/controls",
            "_model_module_version": "1.5.0",
            "_model_name": "HTMLModel",
            "_view_count": null,
            "_view_module": "@jupyter-widgets/controls",
            "_view_module_version": "1.5.0",
            "_view_name": "HTMLView",
            "description": "",
            "description_tooltip": null,
            "layout": "IPY_MODEL_cf77e7f4202b440ca107bb19d08b5186",
            "placeholder": "​",
            "style": "IPY_MODEL_d087a262db444e00b6d435281bb5642d",
            "value": " 186/186 [02:52&lt;00:00,  1.11it/s]"
          }
        },
        "334934bf35d9468c8aef435f727e58ad": {
          "model_module": "@jupyter-widgets/controls",
          "model_module_version": "1.5.0",
          "model_name": "HTMLModel",
          "state": {
            "_dom_classes": [],
            "_model_module": "@jupyter-widgets/controls",
            "_model_module_version": "1.5.0",
            "_model_name": "HTMLModel",
            "_view_count": null,
            "_view_module": "@jupyter-widgets/controls",
            "_view_module_version": "1.5.0",
            "_view_name": "HTMLView",
            "description": "",
            "description_tooltip": null,
            "layout": "IPY_MODEL_afee33d82f134e99aaa9aa6ff6b6b280",
            "placeholder": "​",
            "style": "IPY_MODEL_07163dd52e034531ae76a63f2e4a0564",
            "value": "100%"
          }
        },
        "36bc511d27f14b508a81daf87908e992": {
          "model_module": "@jupyter-widgets/base",
          "model_module_version": "1.2.0",
          "model_name": "LayoutModel",
          "state": {
            "_model_module": "@jupyter-widgets/base",
            "_model_module_version": "1.2.0",
            "_model_name": "LayoutModel",
            "_view_count": null,
            "_view_module": "@jupyter-widgets/base",
            "_view_module_version": "1.2.0",
            "_view_name": "LayoutView",
            "align_content": null,
            "align_items": null,
            "align_self": null,
            "border": null,
            "bottom": null,
            "display": null,
            "flex": null,
            "flex_flow": null,
            "grid_area": null,
            "grid_auto_columns": null,
            "grid_auto_flow": null,
            "grid_auto_rows": null,
            "grid_column": null,
            "grid_gap": null,
            "grid_row": null,
            "grid_template_areas": null,
            "grid_template_columns": null,
            "grid_template_rows": null,
            "height": null,
            "justify_content": null,
            "justify_items": null,
            "left": null,
            "margin": null,
            "max_height": null,
            "max_width": null,
            "min_height": null,
            "min_width": null,
            "object_fit": null,
            "object_position": null,
            "order": null,
            "overflow": null,
            "overflow_x": null,
            "overflow_y": null,
            "padding": null,
            "right": null,
            "top": null,
            "visibility": null,
            "width": null
          }
        },
        "38dff98f0a2f4bcb86160e067cdeab6d": {
          "model_module": "@jupyter-widgets/base",
          "model_module_version": "1.2.0",
          "model_name": "LayoutModel",
          "state": {
            "_model_module": "@jupyter-widgets/base",
            "_model_module_version": "1.2.0",
            "_model_name": "LayoutModel",
            "_view_count": null,
            "_view_module": "@jupyter-widgets/base",
            "_view_module_version": "1.2.0",
            "_view_name": "LayoutView",
            "align_content": null,
            "align_items": null,
            "align_self": null,
            "border": null,
            "bottom": null,
            "display": null,
            "flex": null,
            "flex_flow": null,
            "grid_area": null,
            "grid_auto_columns": null,
            "grid_auto_flow": null,
            "grid_auto_rows": null,
            "grid_column": null,
            "grid_gap": null,
            "grid_row": null,
            "grid_template_areas": null,
            "grid_template_columns": null,
            "grid_template_rows": null,
            "height": null,
            "justify_content": null,
            "justify_items": null,
            "left": null,
            "margin": null,
            "max_height": null,
            "max_width": null,
            "min_height": null,
            "min_width": null,
            "object_fit": null,
            "object_position": null,
            "order": null,
            "overflow": null,
            "overflow_x": null,
            "overflow_y": null,
            "padding": null,
            "right": null,
            "top": null,
            "visibility": "hidden",
            "width": null
          }
        },
        "3a68a6c7574f4a5694d369dfe6f7e431": {
          "model_module": "@jupyter-widgets/controls",
          "model_module_version": "1.5.0",
          "model_name": "HTMLModel",
          "state": {
            "_dom_classes": [],
            "_model_module": "@jupyter-widgets/controls",
            "_model_module_version": "1.5.0",
            "_model_name": "HTMLModel",
            "_view_count": null,
            "_view_module": "@jupyter-widgets/controls",
            "_view_module_version": "1.5.0",
            "_view_name": "HTMLView",
            "description": "",
            "description_tooltip": null,
            "layout": "IPY_MODEL_5c92d19b9c63443483f1597067c0947b",
            "placeholder": "​",
            "style": "IPY_MODEL_ddccae9eb1ee42dbb53b432980d1dc19",
            "value": "100%"
          }
        },
        "3ebe9c7238e848d1b5e076340e055830": {
          "model_module": "@jupyter-widgets/controls",
          "model_module_version": "1.5.0",
          "model_name": "HTMLModel",
          "state": {
            "_dom_classes": [],
            "_model_module": "@jupyter-widgets/controls",
            "_model_module_version": "1.5.0",
            "_model_name": "HTMLModel",
            "_view_count": null,
            "_view_module": "@jupyter-widgets/controls",
            "_view_module_version": "1.5.0",
            "_view_name": "HTMLView",
            "description": "",
            "description_tooltip": null,
            "layout": "IPY_MODEL_1752bbce18274dd2805b3bcd967c611d",
            "placeholder": "​",
            "style": "IPY_MODEL_7ff3e1053b2e4f47b348615a44d69203",
            "value": " 1/1 [02:52&lt;00:00, 172.43s/it]"
          }
        },
        "409319128a3b467b91fdeb19f3761270": {
          "model_module": "@jupyter-widgets/controls",
          "model_module_version": "1.5.0",
          "model_name": "HBoxModel",
          "state": {
            "_dom_classes": [],
            "_model_module": "@jupyter-widgets/controls",
            "_model_module_version": "1.5.0",
            "_model_name": "HBoxModel",
            "_view_count": null,
            "_view_module": "@jupyter-widgets/controls",
            "_view_module_version": "1.5.0",
            "_view_name": "HBoxView",
            "box_style": "",
            "children": [
              "IPY_MODEL_3a68a6c7574f4a5694d369dfe6f7e431",
              "IPY_MODEL_fdbc052ea6df46e58116238d78851dfa",
              "IPY_MODEL_2b9134dc6e644a9dbd54baa9dca263ee"
            ],
            "layout": "IPY_MODEL_38dff98f0a2f4bcb86160e067cdeab6d"
          }
        },
        "449e2a52c4334ecc9cdae62706643ea6": {
          "model_module": "@jupyter-widgets/base",
          "model_module_version": "1.2.0",
          "model_name": "LayoutModel",
          "state": {
            "_model_module": "@jupyter-widgets/base",
            "_model_module_version": "1.2.0",
            "_model_name": "LayoutModel",
            "_view_count": null,
            "_view_module": "@jupyter-widgets/base",
            "_view_module_version": "1.2.0",
            "_view_name": "LayoutView",
            "align_content": null,
            "align_items": null,
            "align_self": null,
            "border": null,
            "bottom": null,
            "display": null,
            "flex": null,
            "flex_flow": null,
            "grid_area": null,
            "grid_auto_columns": null,
            "grid_auto_flow": null,
            "grid_auto_rows": null,
            "grid_column": null,
            "grid_gap": null,
            "grid_row": null,
            "grid_template_areas": null,
            "grid_template_columns": null,
            "grid_template_rows": null,
            "height": null,
            "justify_content": null,
            "justify_items": null,
            "left": null,
            "margin": null,
            "max_height": null,
            "max_width": null,
            "min_height": null,
            "min_width": null,
            "object_fit": null,
            "object_position": null,
            "order": null,
            "overflow": null,
            "overflow_x": null,
            "overflow_y": null,
            "padding": null,
            "right": null,
            "top": null,
            "visibility": null,
            "width": null
          }
        },
        "48f859868f114d9db3900b405bf042f0": {
          "model_module": "@jupyter-widgets/base",
          "model_module_version": "1.2.0",
          "model_name": "LayoutModel",
          "state": {
            "_model_module": "@jupyter-widgets/base",
            "_model_module_version": "1.2.0",
            "_model_name": "LayoutModel",
            "_view_count": null,
            "_view_module": "@jupyter-widgets/base",
            "_view_module_version": "1.2.0",
            "_view_name": "LayoutView",
            "align_content": null,
            "align_items": null,
            "align_self": null,
            "border": null,
            "bottom": null,
            "display": null,
            "flex": null,
            "flex_flow": null,
            "grid_area": null,
            "grid_auto_columns": null,
            "grid_auto_flow": null,
            "grid_auto_rows": null,
            "grid_column": null,
            "grid_gap": null,
            "grid_row": null,
            "grid_template_areas": null,
            "grid_template_columns": null,
            "grid_template_rows": null,
            "height": null,
            "justify_content": null,
            "justify_items": null,
            "left": null,
            "margin": null,
            "max_height": null,
            "max_width": null,
            "min_height": null,
            "min_width": null,
            "object_fit": null,
            "object_position": null,
            "order": null,
            "overflow": null,
            "overflow_x": null,
            "overflow_y": null,
            "padding": null,
            "right": null,
            "top": null,
            "visibility": null,
            "width": null
          }
        },
        "4e9a2acbfabc407bab84eeaa8eb41213": {
          "model_module": "@jupyter-widgets/controls",
          "model_module_version": "1.5.0",
          "model_name": "ProgressStyleModel",
          "state": {
            "_model_module": "@jupyter-widgets/controls",
            "_model_module_version": "1.5.0",
            "_model_name": "ProgressStyleModel",
            "_view_count": null,
            "_view_module": "@jupyter-widgets/base",
            "_view_module_version": "1.2.0",
            "_view_name": "StyleView",
            "bar_color": null,
            "description_width": ""
          }
        },
        "5c92d19b9c63443483f1597067c0947b": {
          "model_module": "@jupyter-widgets/base",
          "model_module_version": "1.2.0",
          "model_name": "LayoutModel",
          "state": {
            "_model_module": "@jupyter-widgets/base",
            "_model_module_version": "1.2.0",
            "_model_name": "LayoutModel",
            "_view_count": null,
            "_view_module": "@jupyter-widgets/base",
            "_view_module_version": "1.2.0",
            "_view_name": "LayoutView",
            "align_content": null,
            "align_items": null,
            "align_self": null,
            "border": null,
            "bottom": null,
            "display": null,
            "flex": null,
            "flex_flow": null,
            "grid_area": null,
            "grid_auto_columns": null,
            "grid_auto_flow": null,
            "grid_auto_rows": null,
            "grid_column": null,
            "grid_gap": null,
            "grid_row": null,
            "grid_template_areas": null,
            "grid_template_columns": null,
            "grid_template_rows": null,
            "height": null,
            "justify_content": null,
            "justify_items": null,
            "left": null,
            "margin": null,
            "max_height": null,
            "max_width": null,
            "min_height": null,
            "min_width": null,
            "object_fit": null,
            "object_position": null,
            "order": null,
            "overflow": null,
            "overflow_x": null,
            "overflow_y": null,
            "padding": null,
            "right": null,
            "top": null,
            "visibility": null,
            "width": null
          }
        },
        "683c00da9c434cf78d30c0d96840352f": {
          "model_module": "@jupyter-widgets/base",
          "model_module_version": "1.2.0",
          "model_name": "LayoutModel",
          "state": {
            "_model_module": "@jupyter-widgets/base",
            "_model_module_version": "1.2.0",
            "_model_name": "LayoutModel",
            "_view_count": null,
            "_view_module": "@jupyter-widgets/base",
            "_view_module_version": "1.2.0",
            "_view_name": "LayoutView",
            "align_content": null,
            "align_items": null,
            "align_self": null,
            "border": null,
            "bottom": null,
            "display": null,
            "flex": null,
            "flex_flow": null,
            "grid_area": null,
            "grid_auto_columns": null,
            "grid_auto_flow": null,
            "grid_auto_rows": null,
            "grid_column": null,
            "grid_gap": null,
            "grid_row": null,
            "grid_template_areas": null,
            "grid_template_columns": null,
            "grid_template_rows": null,
            "height": null,
            "justify_content": null,
            "justify_items": null,
            "left": null,
            "margin": null,
            "max_height": null,
            "max_width": null,
            "min_height": null,
            "min_width": null,
            "object_fit": null,
            "object_position": null,
            "order": null,
            "overflow": null,
            "overflow_x": null,
            "overflow_y": null,
            "padding": null,
            "right": null,
            "top": null,
            "visibility": null,
            "width": null
          }
        },
        "6940f2441fe74d39ada44a3b8f4098bc": {
          "model_module": "@jupyter-widgets/controls",
          "model_module_version": "1.5.0",
          "model_name": "HBoxModel",
          "state": {
            "_dom_classes": [],
            "_model_module": "@jupyter-widgets/controls",
            "_model_module_version": "1.5.0",
            "_model_name": "HBoxModel",
            "_view_count": null,
            "_view_module": "@jupyter-widgets/controls",
            "_view_module_version": "1.5.0",
            "_view_name": "HBoxView",
            "box_style": "",
            "children": [
              "IPY_MODEL_29ba3f2ca2b04adb93db48c6b79dc8dc",
              "IPY_MODEL_e06091c84ca4459a99b01de39787418c",
              "IPY_MODEL_98b17445b0444eb283d98824204492a6"
            ],
            "layout": "IPY_MODEL_48f859868f114d9db3900b405bf042f0"
          }
        },
        "6f7627704e924ee2addc52b254086116": {
          "model_module": "@jupyter-widgets/controls",
          "model_module_version": "1.5.0",
          "model_name": "DescriptionStyleModel",
          "state": {
            "_model_module": "@jupyter-widgets/controls",
            "_model_module_version": "1.5.0",
            "_model_name": "DescriptionStyleModel",
            "_view_count": null,
            "_view_module": "@jupyter-widgets/base",
            "_view_module_version": "1.2.0",
            "_view_name": "StyleView",
            "description_width": ""
          }
        },
        "7418673765834954a9e8b5907b1e62ee": {
          "model_module": "@jupyter-widgets/controls",
          "model_module_version": "1.5.0",
          "model_name": "DescriptionStyleModel",
          "state": {
            "_model_module": "@jupyter-widgets/controls",
            "_model_module_version": "1.5.0",
            "_model_name": "DescriptionStyleModel",
            "_view_count": null,
            "_view_module": "@jupyter-widgets/base",
            "_view_module_version": "1.2.0",
            "_view_name": "StyleView",
            "description_width": ""
          }
        },
        "75a1f3a265764cfca59d3bc1b553d063": {
          "model_module": "@jupyter-widgets/controls",
          "model_module_version": "1.5.0",
          "model_name": "HTMLModel",
          "state": {
            "_dom_classes": [],
            "_model_module": "@jupyter-widgets/controls",
            "_model_module_version": "1.5.0",
            "_model_name": "HTMLModel",
            "_view_count": null,
            "_view_module": "@jupyter-widgets/controls",
            "_view_module_version": "1.5.0",
            "_view_name": "HTMLView",
            "description": "",
            "description_tooltip": null,
            "layout": "IPY_MODEL_0a74ef07738b4fd99509043f5ea2bb32",
            "placeholder": "​",
            "style": "IPY_MODEL_6f7627704e924ee2addc52b254086116",
            "value": "100%"
          }
        },
        "7602a27f375445e1963c885acdf7f3c5": {
          "model_module": "@jupyter-widgets/controls",
          "model_module_version": "1.5.0",
          "model_name": "ProgressStyleModel",
          "state": {
            "_model_module": "@jupyter-widgets/controls",
            "_model_module_version": "1.5.0",
            "_model_name": "ProgressStyleModel",
            "_view_count": null,
            "_view_module": "@jupyter-widgets/base",
            "_view_module_version": "1.2.0",
            "_view_name": "StyleView",
            "bar_color": null,
            "description_width": ""
          }
        },
        "7ff3e1053b2e4f47b348615a44d69203": {
          "model_module": "@jupyter-widgets/controls",
          "model_module_version": "1.5.0",
          "model_name": "DescriptionStyleModel",
          "state": {
            "_model_module": "@jupyter-widgets/controls",
            "_model_module_version": "1.5.0",
            "_model_name": "DescriptionStyleModel",
            "_view_count": null,
            "_view_module": "@jupyter-widgets/base",
            "_view_module_version": "1.2.0",
            "_view_name": "StyleView",
            "description_width": ""
          }
        },
        "98b17445b0444eb283d98824204492a6": {
          "model_module": "@jupyter-widgets/controls",
          "model_module_version": "1.5.0",
          "model_name": "HTMLModel",
          "state": {
            "_dom_classes": [],
            "_model_module": "@jupyter-widgets/controls",
            "_model_module_version": "1.5.0",
            "_model_name": "HTMLModel",
            "_view_count": null,
            "_view_module": "@jupyter-widgets/controls",
            "_view_module_version": "1.5.0",
            "_view_name": "HTMLView",
            "description": "",
            "description_tooltip": null,
            "layout": "IPY_MODEL_223ba734e06d4f9380354bdf263cb9ba",
            "placeholder": "​",
            "style": "IPY_MODEL_7418673765834954a9e8b5907b1e62ee",
            "value": " 1/1 [03:15&lt;00:00, 195.18s/it]"
          }
        },
        "9c27a859da03435fa9422ea7d2b99942": {
          "model_module": "@jupyter-widgets/controls",
          "model_module_version": "1.5.0",
          "model_name": "FloatProgressModel",
          "state": {
            "_dom_classes": [],
            "_model_module": "@jupyter-widgets/controls",
            "_model_module_version": "1.5.0",
            "_model_name": "FloatProgressModel",
            "_view_count": null,
            "_view_module": "@jupyter-widgets/controls",
            "_view_module_version": "1.5.0",
            "_view_name": "ProgressView",
            "bar_style": "",
            "description": "",
            "description_tooltip": null,
            "layout": "IPY_MODEL_449e2a52c4334ecc9cdae62706643ea6",
            "max": 186,
            "min": 0,
            "orientation": "horizontal",
            "style": "IPY_MODEL_7602a27f375445e1963c885acdf7f3c5",
            "value": 186
          }
        },
        "afee33d82f134e99aaa9aa6ff6b6b280": {
          "model_module": "@jupyter-widgets/base",
          "model_module_version": "1.2.0",
          "model_name": "LayoutModel",
          "state": {
            "_model_module": "@jupyter-widgets/base",
            "_model_module_version": "1.2.0",
            "_model_name": "LayoutModel",
            "_view_count": null,
            "_view_module": "@jupyter-widgets/base",
            "_view_module_version": "1.2.0",
            "_view_name": "LayoutView",
            "align_content": null,
            "align_items": null,
            "align_self": null,
            "border": null,
            "bottom": null,
            "display": null,
            "flex": null,
            "flex_flow": null,
            "grid_area": null,
            "grid_auto_columns": null,
            "grid_auto_flow": null,
            "grid_auto_rows": null,
            "grid_column": null,
            "grid_gap": null,
            "grid_row": null,
            "grid_template_areas": null,
            "grid_template_columns": null,
            "grid_template_rows": null,
            "height": null,
            "justify_content": null,
            "justify_items": null,
            "left": null,
            "margin": null,
            "max_height": null,
            "max_width": null,
            "min_height": null,
            "min_width": null,
            "object_fit": null,
            "object_position": null,
            "order": null,
            "overflow": null,
            "overflow_x": null,
            "overflow_y": null,
            "padding": null,
            "right": null,
            "top": null,
            "visibility": null,
            "width": null
          }
        },
        "b5e393cbec954f6a890fbfb6fd87f922": {
          "model_module": "@jupyter-widgets/controls",
          "model_module_version": "1.5.0",
          "model_name": "HTMLModel",
          "state": {
            "_dom_classes": [],
            "_model_module": "@jupyter-widgets/controls",
            "_model_module_version": "1.5.0",
            "_model_name": "HTMLModel",
            "_view_count": null,
            "_view_module": "@jupyter-widgets/controls",
            "_view_module_version": "1.5.0",
            "_view_name": "HTMLView",
            "description": "",
            "description_tooltip": null,
            "layout": "IPY_MODEL_cb045c89aa8f47ebb68743d0985145d7",
            "placeholder": "​",
            "style": "IPY_MODEL_27bc142471ef4ff48e4fc6d62175d467",
            "value": " 186/186 [03:15&lt;00:00,  1.00it/s]"
          }
        },
        "b7709fea98d44ed89969612c7fccfa2f": {
          "model_module": "@jupyter-widgets/controls",
          "model_module_version": "1.5.0",
          "model_name": "DescriptionStyleModel",
          "state": {
            "_model_module": "@jupyter-widgets/controls",
            "_model_module_version": "1.5.0",
            "_model_name": "DescriptionStyleModel",
            "_view_count": null,
            "_view_module": "@jupyter-widgets/base",
            "_view_module_version": "1.2.0",
            "_view_name": "StyleView",
            "description_width": ""
          }
        },
        "bcf44b6d6086470d936373d02201bd5d": {
          "model_module": "@jupyter-widgets/controls",
          "model_module_version": "1.5.0",
          "model_name": "ProgressStyleModel",
          "state": {
            "_model_module": "@jupyter-widgets/controls",
            "_model_module_version": "1.5.0",
            "_model_name": "ProgressStyleModel",
            "_view_count": null,
            "_view_module": "@jupyter-widgets/base",
            "_view_module_version": "1.2.0",
            "_view_name": "StyleView",
            "bar_color": null,
            "description_width": ""
          }
        },
        "cb045c89aa8f47ebb68743d0985145d7": {
          "model_module": "@jupyter-widgets/base",
          "model_module_version": "1.2.0",
          "model_name": "LayoutModel",
          "state": {
            "_model_module": "@jupyter-widgets/base",
            "_model_module_version": "1.2.0",
            "_model_name": "LayoutModel",
            "_view_count": null,
            "_view_module": "@jupyter-widgets/base",
            "_view_module_version": "1.2.0",
            "_view_name": "LayoutView",
            "align_content": null,
            "align_items": null,
            "align_self": null,
            "border": null,
            "bottom": null,
            "display": null,
            "flex": null,
            "flex_flow": null,
            "grid_area": null,
            "grid_auto_columns": null,
            "grid_auto_flow": null,
            "grid_auto_rows": null,
            "grid_column": null,
            "grid_gap": null,
            "grid_row": null,
            "grid_template_areas": null,
            "grid_template_columns": null,
            "grid_template_rows": null,
            "height": null,
            "justify_content": null,
            "justify_items": null,
            "left": null,
            "margin": null,
            "max_height": null,
            "max_width": null,
            "min_height": null,
            "min_width": null,
            "object_fit": null,
            "object_position": null,
            "order": null,
            "overflow": null,
            "overflow_x": null,
            "overflow_y": null,
            "padding": null,
            "right": null,
            "top": null,
            "visibility": null,
            "width": null
          }
        },
        "cf77e7f4202b440ca107bb19d08b5186": {
          "model_module": "@jupyter-widgets/base",
          "model_module_version": "1.2.0",
          "model_name": "LayoutModel",
          "state": {
            "_model_module": "@jupyter-widgets/base",
            "_model_module_version": "1.2.0",
            "_model_name": "LayoutModel",
            "_view_count": null,
            "_view_module": "@jupyter-widgets/base",
            "_view_module_version": "1.2.0",
            "_view_name": "LayoutView",
            "align_content": null,
            "align_items": null,
            "align_self": null,
            "border": null,
            "bottom": null,
            "display": null,
            "flex": null,
            "flex_flow": null,
            "grid_area": null,
            "grid_auto_columns": null,
            "grid_auto_flow": null,
            "grid_auto_rows": null,
            "grid_column": null,
            "grid_gap": null,
            "grid_row": null,
            "grid_template_areas": null,
            "grid_template_columns": null,
            "grid_template_rows": null,
            "height": null,
            "justify_content": null,
            "justify_items": null,
            "left": null,
            "margin": null,
            "max_height": null,
            "max_width": null,
            "min_height": null,
            "min_width": null,
            "object_fit": null,
            "object_position": null,
            "order": null,
            "overflow": null,
            "overflow_x": null,
            "overflow_y": null,
            "padding": null,
            "right": null,
            "top": null,
            "visibility": null,
            "width": null
          }
        },
        "d087a262db444e00b6d435281bb5642d": {
          "model_module": "@jupyter-widgets/controls",
          "model_module_version": "1.5.0",
          "model_name": "DescriptionStyleModel",
          "state": {
            "_model_module": "@jupyter-widgets/controls",
            "_model_module_version": "1.5.0",
            "_model_name": "DescriptionStyleModel",
            "_view_count": null,
            "_view_module": "@jupyter-widgets/base",
            "_view_module_version": "1.2.0",
            "_view_name": "StyleView",
            "description_width": ""
          }
        },
        "d61564ca0e0e47aaaa617a1029022eae": {
          "model_module": "@jupyter-widgets/controls",
          "model_module_version": "1.5.0",
          "model_name": "FloatProgressModel",
          "state": {
            "_dom_classes": [],
            "_model_module": "@jupyter-widgets/controls",
            "_model_module_version": "1.5.0",
            "_model_name": "FloatProgressModel",
            "_view_count": null,
            "_view_module": "@jupyter-widgets/controls",
            "_view_module_version": "1.5.0",
            "_view_name": "ProgressView",
            "bar_style": "success",
            "description": "",
            "description_tooltip": null,
            "layout": "IPY_MODEL_36bc511d27f14b508a81daf87908e992",
            "max": 1,
            "min": 0,
            "orientation": "horizontal",
            "style": "IPY_MODEL_bcf44b6d6086470d936373d02201bd5d",
            "value": 1
          }
        },
        "ddccae9eb1ee42dbb53b432980d1dc19": {
          "model_module": "@jupyter-widgets/controls",
          "model_module_version": "1.5.0",
          "model_name": "DescriptionStyleModel",
          "state": {
            "_model_module": "@jupyter-widgets/controls",
            "_model_module_version": "1.5.0",
            "_model_name": "DescriptionStyleModel",
            "_view_count": null,
            "_view_module": "@jupyter-widgets/base",
            "_view_module_version": "1.2.0",
            "_view_name": "StyleView",
            "description_width": ""
          }
        },
        "e06091c84ca4459a99b01de39787418c": {
          "model_module": "@jupyter-widgets/controls",
          "model_module_version": "1.5.0",
          "model_name": "FloatProgressModel",
          "state": {
            "_dom_classes": [],
            "_model_module": "@jupyter-widgets/controls",
            "_model_module_version": "1.5.0",
            "_model_name": "FloatProgressModel",
            "_view_count": null,
            "_view_module": "@jupyter-widgets/controls",
            "_view_module_version": "1.5.0",
            "_view_name": "ProgressView",
            "bar_style": "success",
            "description": "",
            "description_tooltip": null,
            "layout": "IPY_MODEL_683c00da9c434cf78d30c0d96840352f",
            "max": 1,
            "min": 0,
            "orientation": "horizontal",
            "style": "IPY_MODEL_1731d4d87db549d5bd0935d59979cfba",
            "value": 1
          }
        },
        "f224f672b46b4761a594add58e57d74b": {
          "model_module": "@jupyter-widgets/controls",
          "model_module_version": "1.5.0",
          "model_name": "HBoxModel",
          "state": {
            "_dom_classes": [],
            "_model_module": "@jupyter-widgets/controls",
            "_model_module_version": "1.5.0",
            "_model_name": "HBoxModel",
            "_view_count": null,
            "_view_module": "@jupyter-widgets/controls",
            "_view_module_version": "1.5.0",
            "_view_name": "HBoxView",
            "box_style": "",
            "children": [
              "IPY_MODEL_334934bf35d9468c8aef435f727e58ad",
              "IPY_MODEL_9c27a859da03435fa9422ea7d2b99942",
              "IPY_MODEL_b5e393cbec954f6a890fbfb6fd87f922"
            ],
            "layout": "IPY_MODEL_075d652e76294d519cbc4fe300b835ef"
          }
        },
        "fa95b05176534e89910b124f70813a6e": {
          "model_module": "@jupyter-widgets/base",
          "model_module_version": "1.2.0",
          "model_name": "LayoutModel",
          "state": {
            "_model_module": "@jupyter-widgets/base",
            "_model_module_version": "1.2.0",
            "_model_name": "LayoutModel",
            "_view_count": null,
            "_view_module": "@jupyter-widgets/base",
            "_view_module_version": "1.2.0",
            "_view_name": "LayoutView",
            "align_content": null,
            "align_items": null,
            "align_self": null,
            "border": null,
            "bottom": null,
            "display": null,
            "flex": null,
            "flex_flow": null,
            "grid_area": null,
            "grid_auto_columns": null,
            "grid_auto_flow": null,
            "grid_auto_rows": null,
            "grid_column": null,
            "grid_gap": null,
            "grid_row": null,
            "grid_template_areas": null,
            "grid_template_columns": null,
            "grid_template_rows": null,
            "height": null,
            "justify_content": null,
            "justify_items": null,
            "left": null,
            "margin": null,
            "max_height": null,
            "max_width": null,
            "min_height": null,
            "min_width": null,
            "object_fit": null,
            "object_position": null,
            "order": null,
            "overflow": null,
            "overflow_x": null,
            "overflow_y": null,
            "padding": null,
            "right": null,
            "top": null,
            "visibility": null,
            "width": null
          }
        },
        "fdbc052ea6df46e58116238d78851dfa": {
          "model_module": "@jupyter-widgets/controls",
          "model_module_version": "1.5.0",
          "model_name": "FloatProgressModel",
          "state": {
            "_dom_classes": [],
            "_model_module": "@jupyter-widgets/controls",
            "_model_module_version": "1.5.0",
            "_model_name": "FloatProgressModel",
            "_view_count": null,
            "_view_module": "@jupyter-widgets/controls",
            "_view_module_version": "1.5.0",
            "_view_name": "ProgressView",
            "bar_style": "",
            "description": "",
            "description_tooltip": null,
            "layout": "IPY_MODEL_17135428f60f41bdbded9bab4dfa63f4",
            "max": 186,
            "min": 0,
            "orientation": "horizontal",
            "style": "IPY_MODEL_4e9a2acbfabc407bab84eeaa8eb41213",
            "value": 186
          }
        }
      }
    }
  },
  "nbformat": 4,
  "nbformat_minor": 0
}
